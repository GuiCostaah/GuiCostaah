{
  "nbformat": 4,
  "nbformat_minor": 0,
  "metadata": {
    "colab": {
      "name": "Estatistica.ipynb",
      "provenance": [],
      "collapsed_sections": [],
      "authorship_tag": "ABX9TyP63Iim2JTAfv5IloLk6Ezb",
      "include_colab_link": true
    },
    "kernelspec": {
      "name": "python3",
      "display_name": "Python 3"
    },
    "language_info": {
      "name": "python"
    }
  },
  "cells": [
    {
      "cell_type": "markdown",
      "metadata": {
        "id": "view-in-github",
        "colab_type": "text"
      },
      "source": [
        "<a href=\"https://colab.research.google.com/github/GuiCostaah/GuiCostaah/blob/main/Estatistica.ipynb\" target=\"_parent\"><img src=\"https://colab.research.google.com/assets/colab-badge.svg\" alt=\"Open In Colab\"/></a>"
      ]
    },
    {
      "cell_type": "code",
      "execution_count": 54,
      "metadata": {
        "id": "p077QfJzuDL5"
      },
      "outputs": [],
      "source": [
        "##EXERCICIO 1\n",
        "x = [39, 38, 27, 22, 20, 17, 10, 10, 10, 10, 7, 7, 7, 7, 6]\n",
        "def media_aritmietica(x):\n",
        "  soma=0\n",
        "  for i in range (len(x)):\n",
        "    soma +=x[i]\n",
        "  media=soma/len(x)\n",
        "  return media\n",
        "\n",
        "def media_geometrica(x):\n",
        "  N=len(x)\n",
        "  media=1\n",
        "  for i in range (0,N):\n",
        "    media*=x[i]\n",
        "  media=media**(1/N)\n",
        "    \n",
        "  return media\n",
        "\n",
        "def media_harmonica(x):\n",
        "  N=len(x)\n",
        "  soma=0\n",
        "  for i in range(0,N):\n",
        "    soma=soma+(1/x[i])\n",
        "  media=N/soma\n",
        "  return media"
      ]
    },
    {
      "cell_type": "code",
      "source": [
        "media_harmonica(x)"
      ],
      "metadata": {
        "colab": {
          "base_uri": "https://localhost:8080/"
        },
        "id": "u5nu7y5ex8W7",
        "outputId": "7a50ec6a-fb49-45d8-d2a0-f303100566b7"
      },
      "execution_count": 55,
      "outputs": [
        {
          "output_type": "execute_result",
          "data": {
            "text/plain": [
              "10.858807403873502"
            ]
          },
          "metadata": {},
          "execution_count": 55
        }
      ]
    },
    {
      "cell_type": "code",
      "source": [
        "media_aritmietica(x)"
      ],
      "metadata": {
        "colab": {
          "base_uri": "https://localhost:8080/"
        },
        "id": "fhL6QM7qvKk6",
        "outputId": "447544b7-3db0-4230-abf7-0041a98b9d2f"
      },
      "execution_count": 40,
      "outputs": [
        {
          "output_type": "execute_result",
          "data": {
            "text/plain": [
              "15.8"
            ]
          },
          "metadata": {},
          "execution_count": 40
        }
      ]
    },
    {
      "cell_type": "code",
      "source": [
        "media_geometrica(x)"
      ],
      "metadata": {
        "colab": {
          "base_uri": "https://localhost:8080/"
        },
        "id": "KfvDWtaCxGv0",
        "outputId": "5db37214-3e51-4dc6-c8da-45860841df85"
      },
      "execution_count": 49,
      "outputs": [
        {
          "output_type": "execute_result",
          "data": {
            "text/plain": [
              "12.85218983525253"
            ]
          },
          "metadata": {},
          "execution_count": 49
        }
      ]
    },
    {
      "cell_type": "code",
      "source": [
        "##Exercicio 2 Média ponderada\n",
        "def media_ponderada(x,w):\n",
        "  N=len(x)\n",
        "  M=len(w)\n",
        "  if N == M:\n",
        "    soma=0\n",
        "    media=0\n",
        "    for i in range(0,N):\n",
        "      media+=x[i]*w[i]\n",
        "      soma+=w[i]\n",
        "    media=media/soma\n",
        "    return media\n",
        "  else:\n",
        "    print('Listas precisam ter o mesmo tamanho')"
      ],
      "metadata": {
        "id": "CKBh6zz-yIOr"
      },
      "execution_count": 35,
      "outputs": []
    },
    {
      "cell_type": "code",
      "source": [
        "media_ponderada(x,w)"
      ],
      "metadata": {
        "colab": {
          "base_uri": "https://localhost:8080/"
        },
        "id": "l0CUJe9_y_3g",
        "outputId": "95cd67ac-7efd-4e54-96b4-d92b707de12c"
      },
      "execution_count": 36,
      "outputs": [
        {
          "output_type": "execute_result",
          "data": {
            "text/plain": [
              "21.963609898107716"
            ]
          },
          "metadata": {},
          "execution_count": 36
        }
      ]
    },
    {
      "cell_type": "code",
      "source": [
        "x = [39, 38, 27, 22, 20, 17, 10, 10, 10, 10, 7, 7, 7, 7, 6]\n",
        "w = [113, 88, 58, 65, 71, 46, 36, 33, 37, 40, 24, 21, 20, 15, 20]"
      ],
      "metadata": {
        "id": "7kin_p4vyhV6"
      },
      "execution_count": 29,
      "outputs": []
    },
    {
      "cell_type": "code",
      "source": [
        "\n",
        "def variancia_amostral(x):\n",
        "  N=len(x)\n",
        "  soma=0\n",
        "  media=media_aritmietica(x)\n",
        "  for i in range(0,N):\n",
        "    soma+=(x[i]-media)**2\n",
        "  variancia=soma/(N-1)\n",
        "\n",
        "\n",
        "\n",
        "  return variancia\n",
        "\n",
        "def variancia_populacional(x):\n",
        "  N=len(x)\n",
        "  soma=0\n",
        "  media=media_aritmietica(x)\n",
        "  for i in range(0,N):\n",
        "    soma+=(x[i]-media)**2\n",
        "  variancia=soma/N\n",
        "\n",
        "  return variancia\n",
        "  \n",
        "def desvio_amostral(x):\n",
        "  N=len(x)\n",
        "  soma=0\n",
        "  media=media_aritmietica(x)\n",
        "  for i in range(0,N):\n",
        "    soma+=(x[i]-media)**2\n",
        "  variancia=soma/N*(N-1)\n",
        "  desvio=variancia**0.5\n",
        "\n",
        "  return desvio\n",
        "\n",
        "def desvio_populacional(x):\n",
        "  N=len(x)\n",
        "  soma=0\n",
        "  media=media_aritmietica(x)\n",
        "  for i in range(0,N):\n",
        "    soma+=(x[i]-media)**2\n",
        "  variancia=soma/N\n",
        "  desvio=variancia**0.5\n",
        "\n",
        "  return desvio\n",
        "\n",
        "def incerteza(x):\n",
        "  N=len(x)\n",
        "  soma=0\n",
        "  media=media_aritmietica(x)\n",
        "  for i in range(0,N):\n",
        "    soma+=(x[i]-media)**2\n",
        "  variancia=soma/N*(N-1)\n",
        "  erro=variancia**0.5\n",
        "\n",
        "  return erro"
      ],
      "metadata": {
        "id": "HDrA6ZTG6QQB"
      },
      "execution_count": 94,
      "outputs": []
    },
    {
      "cell_type": "markdown",
      "source": [],
      "metadata": {
        "id": "G9-vosTK7sUV"
      }
    },
    {
      "cell_type": "code",
      "source": [
        "variancia_amostral(x)"
      ],
      "metadata": {
        "colab": {
          "base_uri": "https://localhost:8080/"
        },
        "id": "1Ono9oZL_ZSw",
        "outputId": "c03ac941-3066-4abd-de0a-948a3cfae7da"
      },
      "execution_count": 97,
      "outputs": [
        {
          "output_type": "execute_result",
          "data": {
            "text/plain": [
              "125.31428571428577"
            ]
          },
          "metadata": {},
          "execution_count": 97
        }
      ]
    },
    {
      "cell_type": "code",
      "source": [
        "variancia_populacional(x)"
      ],
      "metadata": {
        "colab": {
          "base_uri": "https://localhost:8080/"
        },
        "id": "Q0kmMELX_uwd",
        "outputId": "cc412931-f2e9-482d-b0c4-2ba0bab21297"
      },
      "execution_count": 98,
      "outputs": [
        {
          "output_type": "execute_result",
          "data": {
            "text/plain": [
              "116.96000000000005"
            ]
          },
          "metadata": {},
          "execution_count": 98
        }
      ]
    },
    {
      "cell_type": "code",
      "source": [
        "desvio_amostral(x)"
      ],
      "metadata": {
        "colab": {
          "base_uri": "https://localhost:8080/"
        },
        "id": "Ij05ufYyAS2t",
        "outputId": "c912da60-4a00-4def-b479-23a1f4f7333c"
      },
      "execution_count": 99,
      "outputs": [
        {
          "output_type": "execute_result",
          "data": {
            "text/plain": [
              "40.465293771329534"
            ]
          },
          "metadata": {},
          "execution_count": 99
        }
      ]
    },
    {
      "cell_type": "code",
      "source": [
        "desvio_populacional(x)"
      ],
      "metadata": {
        "colab": {
          "base_uri": "https://localhost:8080/"
        },
        "id": "DQwasjMeAVf8",
        "outputId": "bd8cdf52-42c0-4bd0-9ab3-5a91c740cbb0"
      },
      "execution_count": 100,
      "outputs": [
        {
          "output_type": "execute_result",
          "data": {
            "text/plain": [
              "10.814804667676622"
            ]
          },
          "metadata": {},
          "execution_count": 100
        }
      ]
    },
    {
      "cell_type": "code",
      "source": [
        "import numpy as np\n",
        "np.median(x)"
      ],
      "metadata": {
        "colab": {
          "base_uri": "https://localhost:8080/"
        },
        "id": "z5lwS-FYANG-",
        "outputId": "ec113cd9-063b-47f2-c0e1-b7d7dc04c73e"
      },
      "execution_count": 101,
      "outputs": [
        {
          "output_type": "execute_result",
          "data": {
            "text/plain": [
              "10.0"
            ]
          },
          "metadata": {},
          "execution_count": 101
        }
      ]
    },
    {
      "cell_type": "code",
      "source": [
        "np.mean(x)"
      ],
      "metadata": {
        "colab": {
          "base_uri": "https://localhost:8080/"
        },
        "id": "QAj3E24XAzSu",
        "outputId": "3d675f17-a8a0-404d-def7-96ebb7d34617"
      },
      "execution_count": 102,
      "outputs": [
        {
          "output_type": "execute_result",
          "data": {
            "text/plain": [
              "15.8"
            ]
          },
          "metadata": {},
          "execution_count": 102
        }
      ]
    },
    {
      "cell_type": "code",
      "source": [
        "np.average(x, weights=w)"
      ],
      "metadata": {
        "colab": {
          "base_uri": "https://localhost:8080/"
        },
        "id": "-gT-Pg1SA62l",
        "outputId": "e3a1a7f8-2449-4cb0-d082-af258d518e0e"
      },
      "execution_count": 103,
      "outputs": [
        {
          "output_type": "execute_result",
          "data": {
            "text/plain": [
              "21.963609898107716"
            ]
          },
          "metadata": {},
          "execution_count": 103
        }
      ]
    },
    {
      "cell_type": "code",
      "source": [
        "np.std(x)"
      ],
      "metadata": {
        "colab": {
          "base_uri": "https://localhost:8080/"
        },
        "id": "YHakhpPMBLGO",
        "outputId": "2ce73eb3-fa53-44ef-93de-18846ea97b8b"
      },
      "execution_count": 104,
      "outputs": [
        {
          "output_type": "execute_result",
          "data": {
            "text/plain": [
              "10.81480466767662"
            ]
          },
          "metadata": {},
          "execution_count": 104
        }
      ]
    },
    {
      "cell_type": "code",
      "source": [
        "np.var(x)"
      ],
      "metadata": {
        "colab": {
          "base_uri": "https://localhost:8080/"
        },
        "id": "CoFlDzq5BPnE",
        "outputId": "a137575c-b8cd-48c9-c617-460f727f4d32"
      },
      "execution_count": 105,
      "outputs": [
        {
          "output_type": "execute_result",
          "data": {
            "text/plain": [
              "116.96000000000001"
            ]
          },
          "metadata": {},
          "execution_count": 105
        }
      ]
    },
    {
      "cell_type": "code",
      "source": [
        "import statistics as st"
      ],
      "metadata": {
        "id": "yWCGWF9MCKzP"
      },
      "execution_count": 106,
      "outputs": []
    },
    {
      "cell_type": "code",
      "source": [
        "  "
      ],
      "metadata": {
        "id": "O0lE4gwHCQAn"
      },
      "execution_count": null,
      "outputs": []
    }
  ]
}