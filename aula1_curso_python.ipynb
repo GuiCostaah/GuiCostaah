{
  "nbformat": 4,
  "nbformat_minor": 0,
  "metadata": {
    "colab": {
      "provenance": [],
      "authorship_tag": "ABX9TyN8Fh6e1TR23WuSGi9MkDwx",
      "include_colab_link": true
    },
    "kernelspec": {
      "name": "python3",
      "display_name": "Python 3"
    },
    "language_info": {
      "name": "python"
    }
  },
  "cells": [
    {
      "cell_type": "markdown",
      "metadata": {
        "id": "view-in-github",
        "colab_type": "text"
      },
      "source": [
        "<a href=\"https://colab.research.google.com/github/GuiCostaah/GuiCostaah/blob/main/aula1_curso_python.ipynb\" target=\"_parent\"><img src=\"https://colab.research.google.com/assets/colab-badge.svg\" alt=\"Open In Colab\"/></a>"
      ]
    },
    {
      "cell_type": "code",
      "source": [
        "tamanho_da_lista=len(notas)\n",
        "print(tamanho_da_lista)"
      ],
      "metadata": {
        "colab": {
          "base_uri": "https://localhost:8080/"
        },
        "id": "-YDcSPzNaY7z",
        "outputId": "e2c87775-a113-47e2-88d5-e8fd354ef3ce"
      },
      "execution_count": null,
      "outputs": [
        {
          "output_type": "stream",
          "name": "stdout",
          "text": [
            "5\n"
          ]
        }
      ]
    },
    {
      "cell_type": "code",
      "execution_count": null,
      "metadata": {
        "colab": {
          "base_uri": "https://localhost:8080/"
        },
        "id": "SdrDOBUXZjlN",
        "outputId": "e28dc7ed-3bbf-4743-cbae-7bca4ee168c6"
      },
      "outputs": [
        {
          "output_type": "stream",
          "name": "stdout",
          "text": [
            "[1, 2, 3, 4, 5]\n"
          ]
        }
      ],
      "source": [
        "notas=[1,2,3,4,5]\n",
        "print(notas)\n"
      ]
    },
    {
      "cell_type": "code",
      "source": [
        "soma_das_notas = sum(notas)\n",
        "print (\"A soma das notas é:\",soma_das_notas)"
      ],
      "metadata": {
        "colab": {
          "base_uri": "https://localhost:8080/"
        },
        "id": "j3kr3vuLaGMA",
        "outputId": "5f1d620a-97e0-4be0-dd6d-1ba2a6869b83"
      },
      "execution_count": null,
      "outputs": [
        {
          "output_type": "stream",
          "name": "stdout",
          "text": [
            "A soma das notas é: 15\n"
          ]
        }
      ]
    },
    {
      "cell_type": "code",
      "source": [
        "média_das_notas = soma_das_notas/tamanho_da_lista\n",
        "print (\"A média das notas é:\",média_das_notas)"
      ],
      "metadata": {
        "colab": {
          "base_uri": "https://localhost:8080/"
        },
        "id": "1HBliPwbbqyz",
        "outputId": "335529b7-4ca6-4c99-b15b-479b03e59543"
      },
      "execution_count": null,
      "outputs": [
        {
          "output_type": "stream",
          "name": "stdout",
          "text": [
            "A média das notas é: 3.0\n"
          ]
        }
      ]
    },
    {
      "cell_type": "code",
      "source": [
        "print(\"Escola de Dados da Alura!\")"
      ],
      "metadata": {
        "colab": {
          "base_uri": "https://localhost:8080/"
        },
        "id": "-dq5qKDgbwct",
        "outputId": "fe15c104-10fb-4cb4-eaaf-317571abda76"
      },
      "execution_count": null,
      "outputs": [
        {
          "output_type": "stream",
          "name": "stdout",
          "text": [
            "Escola de Dados da Alura!\n"
          ]
        }
      ]
    },
    {
      "cell_type": "code",
      "source": [
        "print(\"Nome:\",\"Guilherme\",\n",
        "      'Sobrenome:','Costa')"
      ],
      "metadata": {
        "colab": {
          "base_uri": "https://localhost:8080/"
        },
        "id": "TRInG0U4cC6b",
        "outputId": "fe137450-a39b-45a6-8fe1-87bc78986799"
      },
      "execution_count": null,
      "outputs": [
        {
          "output_type": "stream",
          "name": "stdout",
          "text": [
            "Nome: Guilherme Sobrenome: Costa\n"
          ]
        }
      ]
    },
    {
      "cell_type": "code",
      "source": [
        "print(18,'setembro',2004)"
      ],
      "metadata": {
        "colab": {
          "base_uri": "https://localhost:8080/"
        },
        "id": "0-aamtlecXHI",
        "outputId": "667e3265-61e5-43fb-d14b-3665b3f697ab"
      },
      "execution_count": null,
      "outputs": [
        {
          "output_type": "stream",
          "name": "stdout",
          "text": [
            "18 setembro 2004\n"
          ]
        }
      ]
    },
    {
      "cell_type": "code",
      "source": [
        "print('Ano atual:',2024)"
      ],
      "metadata": {
        "colab": {
          "base_uri": "https://localhost:8080/"
        },
        "id": "AFwbg3ZEdHwL",
        "outputId": "1dd5897c-78cd-4afd-a8d7-b83f22fbff35"
      },
      "execution_count": null,
      "outputs": [
        {
          "output_type": "stream",
          "name": "stdout",
          "text": [
            "Ano atual: 2024\n"
          ]
        }
      ]
    },
    {
      "cell_type": "code",
      "source": [
        "#Estou fazendo um comentário\n",
        "'''\n",
        "Agora to fazendo um comentário grande\n",
        "'''"
      ],
      "metadata": {
        "colab": {
          "base_uri": "https://localhost:8080/",
          "height": 36
        },
        "id": "FKHrR2sHdyU3",
        "outputId": "ef26abaa-a4e3-4fe3-be45-a0ea48b9eb86"
      },
      "execution_count": null,
      "outputs": [
        {
          "output_type": "execute_result",
          "data": {
            "text/plain": [
              "'\\nAgora to fazendo um comentário grande\\n'"
            ],
            "application/vnd.google.colaboratory.intrinsic+json": {
              "type": "string"
            }
          },
          "metadata": {},
          "execution_count": 19
        }
      ]
    },
    {
      "cell_type": "markdown",
      "source": [
        "#OI\n",
        "##OI\n",
        "###OI\n",
        "*Itálico*\n",
        "**Negrito**\n",
        "***Negrito e itálico***\n",
        "* item 1\n",
        "* item 2\n",
        "\n",
        "1. oi\n",
        "2. tchau\n",
        "\n",
        "[Site da Alura](www.alura.com.br)"
      ],
      "metadata": {
        "id": "dhlu7f6xeixy"
      }
    },
    {
      "cell_type": "code",
      "source": [
        "idade = 65"
      ],
      "metadata": {
        "id": "GYX80d-ffyvs"
      },
      "execution_count": null,
      "outputs": []
    },
    {
      "cell_type": "code",
      "source": [
        "print(idade)"
      ],
      "metadata": {
        "colab": {
          "base_uri": "https://localhost:8080/"
        },
        "id": "1gev4Lkaf7WR",
        "outputId": "4bf45678-3aba-4eca-ad58-77afdeeee3d5"
      },
      "execution_count": null,
      "outputs": [
        {
          "output_type": "stream",
          "name": "stdout",
          "text": [
            "65\n"
          ]
        }
      ]
    },
    {
      "cell_type": "code",
      "source": [
        "idade=5"
      ],
      "metadata": {
        "id": "mAIYMPAzgBK_"
      },
      "execution_count": null,
      "outputs": []
    },
    {
      "cell_type": "code",
      "source": [
        "print(idade)"
      ],
      "metadata": {
        "colab": {
          "base_uri": "https://localhost:8080/"
        },
        "id": "UDEoW15GgHwe",
        "outputId": "b2708aef-40ab-4e74-cc9d-73cbf8ea4717"
      },
      "execution_count": null,
      "outputs": [
        {
          "output_type": "stream",
          "name": "stdout",
          "text": [
            "5\n"
          ]
        }
      ]
    },
    {
      "cell_type": "code",
      "source": [
        "idade"
      ],
      "metadata": {
        "colab": {
          "base_uri": "https://localhost:8080/"
        },
        "id": "ycdCu3bcgJkz",
        "outputId": "cb7fcc69-c90d-485f-c797-0deb7454b5e2"
      },
      "execution_count": null,
      "outputs": [
        {
          "output_type": "execute_result",
          "data": {
            "text/plain": [
              "5"
            ]
          },
          "metadata": {},
          "execution_count": 25
        }
      ]
    },
    {
      "cell_type": "code",
      "source": [
        "nome = 'Guilherme'\n",
        "nome"
      ],
      "metadata": {
        "colab": {
          "base_uri": "https://localhost:8080/",
          "height": 36
        },
        "id": "jGA92-vjggw2",
        "outputId": "69525830-cda1-48e4-8262-8653d9278d40"
      },
      "execution_count": null,
      "outputs": [
        {
          "output_type": "execute_result",
          "data": {
            "text/plain": [
              "'Guilherme'"
            ],
            "application/vnd.google.colaboratory.intrinsic+json": {
              "type": "string"
            }
          },
          "metadata": {},
          "execution_count": 27
        }
      ]
    },
    {
      "cell_type": "code",
      "source": [
        "type(nome)"
      ],
      "metadata": {
        "colab": {
          "base_uri": "https://localhost:8080/"
        },
        "id": "lHv_g0_cgsaz",
        "outputId": "f641fd90-7d32-49f8-d314-6c6c8232010b"
      },
      "execution_count": null,
      "outputs": [
        {
          "output_type": "execute_result",
          "data": {
            "text/plain": [
              "str"
            ]
          },
          "metadata": {},
          "execution_count": 28
        }
      ]
    },
    {
      "cell_type": "code",
      "source": [
        "from re import S\n",
        "q_segurança=5\n",
        "s_segurança=3000\n",
        "q_docente=16\n",
        "s_docente=6000\n",
        "q_dretoria=1\n",
        "s_diretoria = 12500\n",
        "\n",
        "q_total=q_segurança + q_docente + q_dretoria\n",
        "\n",
        "todos_os_salarios = [s_segurança,s_docente,s_diretoria]\n",
        "diferença_maior_menor = max(todos_os_salarios)-min(todos_os_salarios)\n",
        "\n",
        "media_salarios = q_segurança * s_segurança + q_docente * s_docente + q_dretoria * s_diretoria\n",
        "media_ponderada = media_salarios/q_total\n",
        "\n",
        "print(q_total)\n",
        "print(diferença_maior_menor)\n",
        "print(media_ponderada)\n",
        "\n"
      ],
      "metadata": {
        "colab": {
          "base_uri": "https://localhost:8080/"
        },
        "id": "bjmm8FqOg_RR",
        "outputId": "5594afdb-41fe-4bd1-b186-8a345aa55e03"
      },
      "execution_count": null,
      "outputs": [
        {
          "output_type": "stream",
          "name": "stdout",
          "text": [
            "22\n",
            "9500\n",
            "5613.636363636364\n"
          ]
        }
      ]
    },
    {
      "cell_type": "code",
      "source": [
        "print(4056//51)\n",
        "\n",
        "print(4056%51)"
      ],
      "metadata": {
        "colab": {
          "base_uri": "https://localhost:8080/"
        },
        "id": "rO5qF_fFn_OZ",
        "outputId": "63633ed4-fb15-45f3-d902-433e3d10d88c"
      },
      "execution_count": null,
      "outputs": [
        {
          "output_type": "stream",
          "name": "stdout",
          "text": [
            "79\n",
            "27\n"
          ]
        }
      ]
    },
    {
      "cell_type": "code",
      "source": [
        "s1 = 'Alura'\n",
        "s2 = \"Alura\"\n",
        "print(type(s1))\n",
        "print(type(s2))"
      ],
      "metadata": {
        "colab": {
          "base_uri": "https://localhost:8080/"
        },
        "id": "iicN7icWBTCO",
        "outputId": "8b56fb16-5088-4474-beb0-1ba4abd35dcb"
      },
      "execution_count": null,
      "outputs": [
        {
          "output_type": "stream",
          "name": "stdout",
          "text": [
            "<class 'str'>\n",
            "<class 'str'>\n"
          ]
        }
      ]
    },
    {
      "cell_type": "code",
      "source": [
        "texto='  guilhErnE coSTa'\n",
        "a=texto.upper()\n",
        "b=texto.lower()\n",
        "c=texto.title()\n",
        "d=texto.capitalize()\n",
        "e=texto.strip()\n",
        "f=texto.replace('e','u')\n",
        "\n",
        "print(a)\n",
        "print(b)\n",
        "print(c)\n",
        "print(d)\n",
        "print(e)\n",
        "print(f)"
      ],
      "metadata": {
        "colab": {
          "base_uri": "https://localhost:8080/"
        },
        "id": "S6MMvFSmCR31",
        "outputId": "c62814b3-5b72-4083-feb2-cb400b6cc491"
      },
      "execution_count": null,
      "outputs": [
        {
          "output_type": "stream",
          "name": "stdout",
          "text": [
            "  GUILHERNE COSTA\n",
            "  guilherne costa\n",
            "  Guilherne Costa\n",
            "  guilherne costa\n",
            "guilhErnE coSTa\n",
            "  guilhErnE coSTa\n"
          ]
        }
      ]
    },
    {
      "cell_type": "code",
      "source": [
        "texto = texto.strip().replace(\"n\",\"m\").title()\n",
        "print(texto)"
      ],
      "metadata": {
        "colab": {
          "base_uri": "https://localhost:8080/"
        },
        "id": "V10fIiH7EjBX",
        "outputId": "873c8db1-ae21-4a50-c2b8-fcd173b72dfc"
      },
      "execution_count": null,
      "outputs": [
        {
          "output_type": "stream",
          "name": "stdout",
          "text": [
            "Guilherme Costa\n"
          ]
        }
      ]
    },
    {
      "cell_type": "code",
      "source": [
        "chr(79) + chr(108) + chr(225)"
      ],
      "metadata": {
        "colab": {
          "base_uri": "https://localhost:8080/",
          "height": 36
        },
        "id": "SJBnw195D8tW",
        "outputId": "95dfa3fd-0af1-4ff2-8aa5-734ecd3c690d"
      },
      "execution_count": null,
      "outputs": [
        {
          "output_type": "execute_result",
          "data": {
            "text/plain": [
              "'Olá'"
            ],
            "application/vnd.google.colaboratory.intrinsic+json": {
              "type": "string"
            }
          },
          "metadata": {},
          "execution_count": 107
        }
      ]
    },
    {
      "cell_type": "code",
      "source": [
        "nome = input(str(\"Qual o seu nome?\"))\n",
        "int(nome)\n",
        "print(nome)"
      ],
      "metadata": {
        "colab": {
          "base_uri": "https://localhost:8080/"
        },
        "id": "PBUU_R3MG9-m",
        "outputId": "140e40d5-bee8-43fe-f0f1-f2f6a04529b9"
      },
      "execution_count": null,
      "outputs": [
        {
          "output_type": "stream",
          "name": "stdout",
          "text": [
            "Qual o seu nome?15\n",
            "15\n"
          ]
        }
      ]
    },
    {
      "cell_type": "code",
      "source": [
        "ano_de_entrada=input('Qual ano de matricula?')\n",
        "int(ano_de_entrada)\n",
        "print(ano_de_entrada)"
      ],
      "metadata": {
        "colab": {
          "base_uri": "https://localhost:8080/"
        },
        "id": "5jJLgZm_H31b",
        "outputId": "40e53ddf-bfc8-4148-ba07-e83e99a1b13b"
      },
      "execution_count": null,
      "outputs": [
        {
          "output_type": "stream",
          "name": "stdout",
          "text": [
            "Qual ano de matricula?2024\n",
            "2024\n"
          ]
        }
      ]
    },
    {
      "cell_type": "code",
      "source": [
        "nota_entrada=float(input('Nota: '))\n",
        "print(f'Ano de matricula: {ano_de_entrada} - A nota foi: {nota_entrada}')"
      ],
      "metadata": {
        "colab": {
          "base_uri": "https://localhost:8080/"
        },
        "id": "e8ffzKtPIci3",
        "outputId": "cc045b9c-f1c8-49ed-9d71-a70cdca4fe68"
      },
      "execution_count": null,
      "outputs": [
        {
          "output_type": "stream",
          "name": "stdout",
          "text": [
            "Nota: 10\n",
            "Ano de matricula: 2024 - A nota foi: 10.0\n"
          ]
        }
      ]
    },
    {
      "cell_type": "code",
      "source": [
        "print('Nome do aluno: %s com idade de 20 anos'\n",
        "      %(texto))"
      ],
      "metadata": {
        "colab": {
          "base_uri": "https://localhost:8080/"
        },
        "id": "kMqyeCakSgqz",
        "outputId": "ad3560df-4e55-4a1b-ee71-a21f4fe76bee"
      },
      "execution_count": null,
      "outputs": [
        {
          "output_type": "stream",
          "name": "stdout",
          "text": [
            "Nome do aluno: Guilherme Costa com idade de 20 anos\n"
          ]
        }
      ]
    },
    {
      "cell_type": "code",
      "source": [
        "print('Nome do aluno: {} \\n{}\\tanos'.format(texto,nome))"
      ],
      "metadata": {
        "colab": {
          "base_uri": "https://localhost:8080/"
        },
        "id": "ROO_Xu31TZUz",
        "outputId": "d8cb3a40-fb50-4657-bf46-9778a2fc705e"
      },
      "execution_count": null,
      "outputs": [
        {
          "output_type": "stream",
          "name": "stdout",
          "text": [
            "Nome do aluno: Guilherme Costa \n",
            "15\tanos\n"
          ]
        }
      ]
    },
    {
      "cell_type": "code",
      "source": [
        "print('Quantidade\\tQualidade\\n5 amostras\\tAlta\\n3 amostras\\tBaixa')"
      ],
      "metadata": {
        "colab": {
          "base_uri": "https://localhost:8080/"
        },
        "id": "xfJ_XDUTUCDY",
        "outputId": "e9c25b26-6882-40d6-9a94-27cccd58f9ce"
      },
      "execution_count": null,
      "outputs": [
        {
          "output_type": "stream",
          "name": "stdout",
          "text": [
            "Quantidade\tQualidade\n",
            "5 amostras\tAlta\n",
            "3 amostras\tBaixa\n"
          ]
        }
      ]
    },
    {
      "cell_type": "code",
      "source": [
        "print(\"Caminho do arquivo: C:\\\\arquivos\\\\documento.csv\")"
      ],
      "metadata": {
        "colab": {
          "base_uri": "https://localhost:8080/"
        },
        "id": "nxBQbbfXUJEv",
        "outputId": "e185edd1-a591-4820-df85-400be6af07aa"
      },
      "execution_count": null,
      "outputs": [
        {
          "output_type": "stream",
          "name": "stdout",
          "text": [
            "Caminho do arquivo: C:\\arquivos\\documento.csv\n"
          ]
        }
      ]
    },
    {
      "cell_type": "code",
      "source": [
        "print('Minha professora uma vez disse \\'Estudar é a chave do sucesso.\\' ')"
      ],
      "metadata": {
        "colab": {
          "base_uri": "https://localhost:8080/"
        },
        "id": "TAHIpw8vURf3",
        "outputId": "c4234823-39aa-4fbb-825b-51d2fc20c7a9"
      },
      "execution_count": null,
      "outputs": [
        {
          "output_type": "stream",
          "name": "stdout",
          "text": [
            "Minha professora uma vez disse 'Estudar é a chave do sucesso.' \n"
          ]
        }
      ]
    },
    {
      "cell_type": "code",
      "source": [
        "nome = input('Digite seu nome:')\n",
        "print('Olá {}!'.format(nome))"
      ],
      "metadata": {
        "colab": {
          "base_uri": "https://localhost:8080/"
        },
        "id": "Zi7I1WkWUooO",
        "outputId": "4138e780-74d5-4315-e8e9-0aa9ce9b0251"
      },
      "execution_count": null,
      "outputs": [
        {
          "output_type": "stream",
          "name": "stdout",
          "text": [
            "Digite seu nome:Guilherme\n",
            "Olá Guilherme!\n"
          ]
        }
      ]
    },
    {
      "cell_type": "code",
      "source": [
        "nome= input('Digite seu nome:')\n",
        "idade= input('Digite sua idade:')\n",
        "print('Olá {}! Você tem {} anos.'.format(nome,idade))\n"
      ],
      "metadata": {
        "colab": {
          "base_uri": "https://localhost:8080/"
        },
        "id": "fd40KtLlU8RQ",
        "outputId": "d844b146-5608-456b-9e1d-dc940035c3d8"
      },
      "execution_count": null,
      "outputs": [
        {
          "output_type": "stream",
          "name": "stdout",
          "text": [
            "Digite seu nome:Guilherme\n",
            "Digite sua idade:20\n",
            "Olá Guilherme! Você tem 20 anos.\n"
          ]
        }
      ]
    },
    {
      "cell_type": "code",
      "source": [
        "nome = input('Digite seu nome:')\n",
        "idade = input('Digite sua idade:')\n",
        "altura = input('Digite sua altura')\n",
        "print(f'Olá,{nome}, você tem {idade}\\nMede {altura} metros!')\n",
        "type (idade)\n",
        "type(altura)"
      ],
      "metadata": {
        "colab": {
          "base_uri": "https://localhost:8080/"
        },
        "id": "KZlVuLgbVIWO",
        "outputId": "5ee31fa3-baa5-444b-88c2-eb34ed915bfc"
      },
      "execution_count": null,
      "outputs": [
        {
          "output_type": "stream",
          "name": "stdout",
          "text": [
            "Digite seu nome:Guilherme\n",
            "Digite sua idade:20\n",
            "Digite sua altura1.85\n",
            "Olá,Guilherme, você tem 20\n",
            "Mede 1.85 metros!\n"
          ]
        },
        {
          "output_type": "execute_result",
          "data": {
            "text/plain": [
              "str"
            ]
          },
          "metadata": {},
          "execution_count": 140
        }
      ]
    },
    {
      "cell_type": "code",
      "source": [
        "valor_1 = int(input('Digite o primeiro valor:'))\n",
        "valor_2 = int(input('Digite o segundo valor:'))\n",
        "print(valor_1 * valor_2)"
      ],
      "metadata": {
        "colab": {
          "base_uri": "https://localhost:8080/"
        },
        "id": "EAuwP2ldVq8g",
        "outputId": "dce29acf-fe1b-43e6-9ce6-25738006aab6"
      },
      "execution_count": null,
      "outputs": [
        {
          "output_type": "stream",
          "name": "stdout",
          "text": [
            "Digite o primeiro valor:2\n",
            "Digite o segundo valor:5\n",
            "10\n"
          ]
        }
      ]
    },
    {
      "cell_type": "code",
      "source": [
        "valor_1 = float(input('DIGITE UM VALOR: '))\n",
        "valor_2= float(input('DIGITE OUTRO VALOR: '))\n",
        "valor_3= float(input('DIGITE MAIS UM VALOR: '))\n",
        "soma = valor_1 + valor_2 + valor_3\n",
        "print(soma)"
      ],
      "metadata": {
        "colab": {
          "base_uri": "https://localhost:8080/"
        },
        "id": "InhRFUarV1jm",
        "outputId": "0f27d102-2598-4008-f83a-7d7efd74bbb9"
      },
      "execution_count": null,
      "outputs": [
        {
          "output_type": "stream",
          "name": "stdout",
          "text": [
            "DIGITE UM VALOR: 12.4\n",
            "DIGITE OUTRO VALOR: 30.4\n",
            "DIGITE MAIS UM VALOR: 12.2\n",
            "55.0\n"
          ]
        }
      ]
    },
    {
      "cell_type": "code",
      "source": [
        "numerador = int(input('Digite o numerador: '))\n",
        "denominador = int(input('Digite o denominador: '))\n",
        "while denominador == 0:\n",
        "  print('Não é possível fazer a operação')\n",
        "  denominador = int(input('Digite o denominador: '))\n",
        "print(numerador//denominador)"
      ],
      "metadata": {
        "colab": {
          "base_uri": "https://localhost:8080/"
        },
        "id": "y51h4w-hWmTi",
        "outputId": "73755968-836e-4acd-970b-0def5f64cd27"
      },
      "execution_count": null,
      "outputs": [
        {
          "output_type": "stream",
          "name": "stdout",
          "text": [
            "Digite o numerador: 10\n",
            "Digite o denominador: 3\n",
            "3\n"
          ]
        }
      ]
    },
    {
      "cell_type": "code",
      "source": [],
      "metadata": {
        "id": "LJ-j3mdjXq63"
      },
      "execution_count": null,
      "outputs": []
    },
    {
      "cell_type": "code",
      "source": [
        "numerador = int(input('Digite o numerador: '))\n",
        "denominador = int(input('Digite o denominador: '))\n",
        "while denominador == 0:\n",
        "  print('Não é possível fazer a operação')\n",
        "  denominador = int(input('Digite o denominador: '))\n",
        "print(numerador%denominador)"
      ],
      "metadata": {
        "colab": {
          "base_uri": "https://localhost:8080/"
        },
        "outputId": "da169291-baee-4e5a-a5b9-9c38828bd6b6",
        "id": "g0X5x6ocXrKI"
      },
      "execution_count": null,
      "outputs": [
        {
          "output_type": "stream",
          "name": "stdout",
          "text": [
            "Digite o numerador: 10\n",
            "Digite o denominador: 3\n",
            "1\n"
          ]
        }
      ]
    },
    {
      "cell_type": "code",
      "source": [
        "operador=int(input(\"digite um valor\"))\n",
        "potencia=int(input(\"digite um valor\"))\n",
        "print(operador**potencia)"
      ],
      "metadata": {
        "colab": {
          "base_uri": "https://localhost:8080/"
        },
        "id": "MpZ8VYp0XKpk",
        "outputId": "e9670a7f-edb8-47a1-df0e-e2176eeb77f8"
      },
      "execution_count": null,
      "outputs": [
        {
          "output_type": "stream",
          "name": "stdout",
          "text": [
            "digite um valor10\n",
            "digite um valor10\n",
            "10000000000\n"
          ]
        }
      ]
    },
    {
      "cell_type": "code",
      "source": [
        "nota1 = float(input('Digite a primeira nota '))\n",
        "nota2 = float(input('Digite a segunda nota '))\n",
        "nota3 = float(input('Digite a terceira nota '))\n",
        "nota4 = float(input('Digite a quarta nota '))\n",
        "nota5 = float(input('Digite a quinta nota '))\n",
        "notas=[nota1,nota2,nota3,nota4,nota5]\n",
        "soma=_nota=sum(notas)\n",
        "media=soma/len(notas)\n",
        "print(f'Média das notas:{media}')\n",
        "print(soma,len(notas))\n"
      ],
      "metadata": {
        "colab": {
          "base_uri": "https://localhost:8080/"
        },
        "id": "Y7gT5YF0Xxg_",
        "outputId": "4da9fa4f-f186-4e59-bd79-1291f72a838c"
      },
      "execution_count": null,
      "outputs": [
        {
          "output_type": "stream",
          "name": "stdout",
          "text": [
            "Digite a primeira nota 10\n",
            "Digite a segunda nota 9.5\n",
            "Digite a terceira nota 7\n",
            "Digite a quarta nota 3\n",
            "Digite a quinta nota 8\n",
            "Média das notas:7.5\n",
            "37.5 5\n"
          ]
        }
      ]
    },
    {
      "cell_type": "code",
      "source": [
        "números=[5,12,20,15]\n",
        "peso=[1,2,3,4]\n",
        "soma=números[0]*peso[0]+números[1]*peso[1]+números[2]*peso[2]+números[3]*peso[3]\n",
        "print(soma)\n",
        "print(f'A média ponderada é {soma/sum(peso)}')"
      ],
      "metadata": {
        "colab": {
          "base_uri": "https://localhost:8080/"
        },
        "id": "vxtv3D3oZBch",
        "outputId": "934313da-586b-450d-f59e-28c54ace72d3"
      },
      "execution_count": null,
      "outputs": [
        {
          "output_type": "stream",
          "name": "stdout",
          "text": [
            "149\n",
            "A média ponderada é 14.9\n"
          ]
        }
      ]
    },
    {
      "cell_type": "code",
      "source": [
        "frase = \"Exército Brasileiro\"\n",
        "print(frase)"
      ],
      "metadata": {
        "colab": {
          "base_uri": "https://localhost:8080/"
        },
        "id": "CK9Js8pYZu3i",
        "outputId": "eea6035f-c3df-40b2-825a-f14eeaa72dfa"
      },
      "execution_count": null,
      "outputs": [
        {
          "output_type": "stream",
          "name": "stdout",
          "text": [
            "Exército Brasileiro\n"
          ]
        }
      ]
    },
    {
      "cell_type": "code",
      "source": [
        "frase= input('Digite uma frase: ')\n",
        "print(frase.upper())\n",
        "print(frase.lower())\n",
        "print(frase.strip())\n"
      ],
      "metadata": {
        "colab": {
          "base_uri": "https://localhost:8080/"
        },
        "id": "3rROuD4QZ7hE",
        "outputId": "780726ec-ab99-4a7e-8487-ddb3dc3ad242"
      },
      "execution_count": null,
      "outputs": [
        {
          "output_type": "stream",
          "name": "stdout",
          "text": [
            "Digite uma frase:    GuilHERME\n",
            "   GUILHERME\n",
            "   guilherme\n",
            "GuilHERME\n"
          ]
        }
      ]
    },
    {
      "cell_type": "code",
      "source": [
        "frase= input('Digite uma frase: ')\n",
        "frase = frase.lower().strip()\n",
        "print(frase)"
      ],
      "metadata": {
        "colab": {
          "base_uri": "https://localhost:8080/"
        },
        "id": "kkC5p0-uan28",
        "outputId": "4e7cd6f1-6c10-41a3-faeb-d3ce208d7a1d"
      },
      "execution_count": null,
      "outputs": [
        {
          "output_type": "stream",
          "name": "stdout",
          "text": [
            "Digite uma frase:   FALA FIOTE\n",
            "fala fiote\n"
          ]
        }
      ]
    },
    {
      "cell_type": "code",
      "source": [
        "frase= input('Digite uma frase: ')\n",
        "frase = frase.lower().strip()\n",
        "print(frase.replace('s','$'))"
      ],
      "metadata": {
        "colab": {
          "base_uri": "https://localhost:8080/"
        },
        "id": "F8hNSyZgbpYU",
        "outputId": "b1d7338e-c849-4dc8-c79f-807faba3ce67"
      },
      "execution_count": null,
      "outputs": [
        {
          "output_type": "stream",
          "name": "stdout",
          "text": [
            "Digite uma frase: postar saco\n",
            "po$tar $aco\n"
          ]
        }
      ]
    },
    {
      "cell_type": "markdown",
      "source": [
        "SEPARANDO AULA 3 - IF ELSE\n"
      ],
      "metadata": {
        "id": "0HqTSqkoeEq_"
      }
    },
    {
      "cell_type": "code",
      "source": [
        "media=float(input('Digite a média: '))\n",
        "\n",
        "if media>= 6.0:\n",
        "  print('aprovado!')\n",
        "else:\n",
        "  print('reprovado!')"
      ],
      "metadata": {
        "colab": {
          "base_uri": "https://localhost:8080/"
        },
        "id": "HuVnqNcqe4vk",
        "outputId": "d913bf88-2fe7-45b9-f74d-631a723fa28b"
      },
      "execution_count": null,
      "outputs": [
        {
          "output_type": "stream",
          "name": "stdout",
          "text": [
            "Digite a média: 6.1\n",
            "aprovado!\n"
          ]
        }
      ]
    },
    {
      "cell_type": "code",
      "source": [
        "media = float(input('Digite a média: '))\n",
        "if media >= 6.0:\n",
        "  print('Aprovado!')\n",
        "elif 6.0 > media >= 4.0:\n",
        "  print('Recuperação')\n",
        "else:\n",
        "  print('Reprovado')"
      ],
      "metadata": {
        "colab": {
          "base_uri": "https://localhost:8080/"
        },
        "id": "e2K5bdMCeH5K",
        "outputId": "7cb1fe06-f037-48bc-d9a3-004d2c3e231d"
      },
      "execution_count": null,
      "outputs": [
        {
          "output_type": "stream",
          "name": "stdout",
          "text": [
            "Digite a média: 4.001\n",
            "Recuperação\n"
          ]
        }
      ]
    },
    {
      "cell_type": "markdown",
      "source": [
        "OPERADORES LOGICOS AND OR OU NOT\n"
      ],
      "metadata": {
        "id": "gVuWWgtuZFGU"
      }
    },
    {
      "cell_type": "code",
      "source": [
        "t1 = t2 = True\n",
        "f1 = f2 = False"
      ],
      "metadata": {
        "id": "2jJLkw6uWP0z"
      },
      "execution_count": null,
      "outputs": []
    },
    {
      "cell_type": "code",
      "source": [
        "if t1 and t2:\n",
        "  print('Verdadeiro')\n",
        "else:\n",
        "  print('Falso')"
      ],
      "metadata": {
        "colab": {
          "base_uri": "https://localhost:8080/"
        },
        "id": "tmgq4o2LaLqa",
        "outputId": "920072af-2d5d-4f78-d3b8-57d873ca0f3c"
      },
      "execution_count": null,
      "outputs": [
        {
          "output_type": "stream",
          "name": "stdout",
          "text": [
            "Verdadeiro\n"
          ]
        }
      ]
    },
    {
      "cell_type": "code",
      "source": [
        "if f1 or t2:\n",
        "  print('Verdadeiro')\n",
        "else:\n",
        "  print('Falso')"
      ],
      "metadata": {
        "colab": {
          "base_uri": "https://localhost:8080/"
        },
        "id": "0zOuh55aaO3g",
        "outputId": "39adf8fa-5b0a-4dfe-c039-e1b9ef7ec8bb"
      },
      "execution_count": null,
      "outputs": [
        {
          "output_type": "stream",
          "name": "stdout",
          "text": [
            "Verdadeiro\n"
          ]
        }
      ]
    },
    {
      "cell_type": "code",
      "source": [
        "if not t2:\n",
        "  print('Verdadeiro')\n",
        "else:\n",
        "  print('Falso')"
      ],
      "metadata": {
        "colab": {
          "base_uri": "https://localhost:8080/"
        },
        "id": "D0VklrHRZbu1",
        "outputId": "ebe35582-8fc6-4aac-8896-56e2d72ca886"
      },
      "execution_count": null,
      "outputs": [
        {
          "output_type": "stream",
          "name": "stdout",
          "text": [
            "Falso\n"
          ]
        }
      ]
    },
    {
      "cell_type": "code",
      "source": [
        "lista = 'José da Silva, Maria Oliveira, Pedro Martins, Ana Souza, Carlos Rodrigues'\n",
        "print(lista)"
      ],
      "metadata": {
        "colab": {
          "base_uri": "https://localhost:8080/"
        },
        "id": "5CFYj1SiacbT",
        "outputId": "c08963a5-c7db-4e0b-d8ad-fb25d2f1cd02"
      },
      "execution_count": null,
      "outputs": [
        {
          "output_type": "stream",
          "name": "stdout",
          "text": [
            "José da Silva, Maria Oliveira, Pedro Martins, Ana Souza, Carlos Rodrigues\n"
          ]
        }
      ]
    },
    {
      "cell_type": "code",
      "source": [
        "nome_1='Maria Oliveira'\n",
        "nome_2='Marcelo Nogueira'"
      ],
      "metadata": {
        "id": "6rewzqbfatTx"
      },
      "execution_count": null,
      "outputs": []
    },
    {
      "cell_type": "code",
      "source": [
        "if nome_1 in lista:\n",
        "  print(f'O nome {nome_1} está na lista')\n",
        "else:\n",
        "  print(f'O nome {nome_1} não está na lista')"
      ],
      "metadata": {
        "colab": {
          "base_uri": "https://localhost:8080/"
        },
        "id": "sdtoe4ona4Ds",
        "outputId": "9d97d5be-25e4-4285-e718-87af9f3d3891"
      },
      "execution_count": null,
      "outputs": [
        {
          "output_type": "stream",
          "name": "stdout",
          "text": [
            "O nome Maria Oliveira está na lista\n"
          ]
        }
      ]
    },
    {
      "cell_type": "code",
      "source": [
        "numero_1= int(input('Digite um número: '))\n",
        "numero_2= int(input('Digite um número: '))\n",
        "if numero_1>numero_2:\n",
        "  print(f'O número {numero_1} é maior')\n",
        "else:\n",
        "  print(f'O número {numero_2} é maior')\n"
      ],
      "metadata": {
        "colab": {
          "base_uri": "https://localhost:8080/"
        },
        "id": "93IgHeWLbtxm",
        "outputId": "dcf7b59b-e9a6-4d43-909f-c932d31e484d"
      },
      "execution_count": null,
      "outputs": [
        {
          "output_type": "stream",
          "name": "stdout",
          "text": [
            "Digite um número: 50\n",
            "Digite um número: 51\n",
            "O número 51 é maior\n"
          ]
        }
      ]
    },
    {
      "cell_type": "code",
      "source": [
        "percentual=float(input('Digite o percentual de crescimento de produção: '))\n",
        "if percentual>0:\n",
        "  print('Houve um aumento na produção.')\n",
        "else:\n",
        "  print('Houve um decréscimo na produção')"
      ],
      "metadata": {
        "colab": {
          "base_uri": "https://localhost:8080/"
        },
        "id": "BgMtHSV0cQJP",
        "outputId": "60f9b017-c8d6-40a2-a078-df7920808a35"
      },
      "execution_count": null,
      "outputs": [
        {
          "output_type": "stream",
          "name": "stdout",
          "text": [
            "Digite o percentual de crescimento de produção: -5\n",
            "Houve um decréscimo na produção\n"
          ]
        }
      ]
    },
    {
      "cell_type": "code",
      "source": [
        "vogais='aeiou'\n",
        "letra=input('Digite uma letra: ').lower()\n",
        "if letra in vogais:\n",
        "  print(f'A letra {letra} é uma vogal')\n",
        "else:\n",
        "  print(f'A letra {letra} é uma consoante')"
      ],
      "metadata": {
        "colab": {
          "base_uri": "https://localhost:8080/"
        },
        "id": "AkTWc1YdcwbG",
        "outputId": "724a8a50-d97f-438b-ead0-eff6835738eb"
      },
      "execution_count": null,
      "outputs": [
        {
          "output_type": "stream",
          "name": "stdout",
          "text": [
            "Digite uma letra: a\n",
            "A letra a é uma vogal\n"
          ]
        }
      ]
    },
    {
      "cell_type": "code",
      "source": [
        "valor_medio_1=float(input('Digite o valor médio do carro em 2020: '))\n",
        "valor_medio_2=float(input('Digite o valor médio do carro em 2021: '))\n",
        "valor_medio_3=float(input('Digite o valor médio do carro em 2022: '))\n",
        "\n",
        "if valor_medio_1>valor_medio_2 and valor_medio_1>valor_medio_3:\n",
        "  print(f'O carro em 2020 foi o mais caro')\n",
        "  if valor_medio_2>valor_medio_3:\n",
        "    print(f'O carro em 2022 foi o  mais barato')\n",
        "  else:\n",
        "    print(f'O carro em 2021 foi o mais barato')\n",
        "elif valor_medio_2>valor_medio_1 and valor_medio_2>valor_medio_3:\n",
        "  print(f'O carro em 2021 foi o mais caro')\n",
        "  if valor_medio_1>valor_medio_3:\n",
        "    print(f'O carro em 2022 foi o mais barato')\n",
        "  else:\n",
        "    print(f'O carro em 2020 foi o mais barato')\n",
        "elif valor_medio_3>valor_medio_1 and valor_medio_3>valor_medio_1:\n",
        "  print(f'O carro em 2022 foi o mais caro')\n",
        "  if valor_medio_1>valor_medio_2:\n",
        "    print(f'O carro em 2021 foi o mais barato')\n",
        "  else:\n",
        "    print(f'O carro em 2020 foi o mais barato')\n",
        "elif valor_medio_1==valor_medio_2 and valor_medio_1>valor_medio_3:\n",
        "  print(f'O carro em 2020 e 2021 foram os mais caros')\n",
        "elif valor_medio_1==valor_medio_3 and valor_medio_1>valor_medio_2:\n",
        "  print(f'O carro em 2020 e 2022 foram os mais caros')\n",
        "elif valor_medio_2==valor_medio_3 and valor_medio_2>valor_medio_1:\n",
        "  print(f'O carro em 2021 e 2022 foram os mais caros')\n",
        "else:\n",
        "  print('Os carros de 2020, 2021 e 2022 foram iguais')\n",
        "\n",
        "\n",
        "\n",
        "\n",
        "\n",
        "# Coletamos os preços dos 3 anos\n",
        "preco_ano1 = float(input('Informe o preço médio do carro no primeiro ano: '))\n",
        "preco_ano2 = float(input('Informe o preço médio do carro no segundo ano: '))\n",
        "preco_ano3 = float(input('Informe o preço médio do carro no terceiro ano: '))\n",
        "\n",
        "# Determinamos o maior valor através de comparações\n",
        "maior = preco_ano1\n",
        "if preco_ano2 > maior:\n",
        "  maior = preco_ano2\n",
        "if preco_ano3 > maior:\n",
        "  maior = preco_ano3\n",
        "\n",
        "# Determinamos o menor valor através de comparações\n",
        "menor = preco_ano1\n",
        "if preco_ano2 < menor:\n",
        "  menor = preco_ano2\n",
        "if preco_ano3 < menor:\n",
        "  menor = preco_ano3\n",
        "\n",
        "# Mostramos o resultado\n",
        "print(f'O preço mais alto foi de R$ {maior}.')\n",
        "print(f'O preço mais baixo foi de R$ {menor}.')\n"
      ],
      "metadata": {
        "colab": {
          "base_uri": "https://localhost:8080/"
        },
        "id": "dREwqzHCdA9W",
        "outputId": "2f9b075c-d93e-421c-a78c-316504d9e20e"
      },
      "execution_count": null,
      "outputs": [
        {
          "output_type": "stream",
          "name": "stdout",
          "text": [
            "Digite o valor médio do carro em 2020: 20000\n",
            "Digite o valor médio do carro em 2021: 20500\n",
            "Digite o valor médio do carro em 2022: 23000\n",
            "O carro em 2022 foi o mais caro\n",
            "O carro em 2020 foi o mais barato\n"
          ]
        }
      ]
    },
    {
      "cell_type": "code",
      "source": [
        "produto_1=float(input('Digite o valor do primeiro produto: '))\n",
        "produto_2=float(input('Digite o valor do segundo produto: '))\n",
        "produto_3=float(input('Digite o valor do terceiro produto: '))\n",
        "\n",
        "if produto_1<produto_2 and produto_1<produto_3:\n",
        "  print(f'O produto 1 é o mais barato para comprar')\n",
        "\n",
        "elif produto_2<produto_1 and produto_2<produto_3:\n",
        "  print(f'O produto 2 é o mais barato para comprar')\n",
        "\n",
        "elif produto_3<produto_1 and produto_3<produto_2:\n",
        "  print(f'O produto 3 é o mais barato para comprar')\n",
        "\n",
        "else:\n",
        "  print('Os produtos são iguais')\n",
        "\n",
        "\n",
        "# Coletamos os preços dos três produtos\n",
        "p1 = float(input('Digite o preço do primeiro produto: '))\n",
        "p2 = float(input('Digite o preço do segundo produto: '))\n",
        "p3 = float(input('Digite o preço do terceiro produto: '))\n",
        "\n",
        "# Verificamos qual produto é o mais barato usando o operador lógico 'and'\n",
        "if p1 < p2 and p1 < p3:\n",
        "    print('O primeiro produto é o mais barato.')\n",
        "elif p2 < p1 and p2 < p3:\n",
        "    print('O segundo produto é o mais barato.')\n",
        "elif p3 < p1 and p3 < p2:\n",
        "    print('O terceiro produto é o mais barato.')\n",
        "elif p1 == p2 == p3:\n",
        "    print('Os produtos possuem o mesmo preço.')\n",
        "else:\n",
        "    # Identificamos quais produtos possuem o mesmo preço, se for o caso\n",
        "    if p1 == p2:\n",
        "        print('O primeiro e o segundo produtos são os mais baratos.')\n",
        "    elif p2 == p3:\n",
        "        print('O segundo e terceiro produtos são os mais baratos.')\n",
        "    elif p1 == p3:\n",
        "        print('O primeiro e o terceiro produtos são os mais baratos.')\n"
      ],
      "metadata": {
        "colab": {
          "base_uri": "https://localhost:8080/"
        },
        "id": "e67fEFo_fF4q",
        "outputId": "b5dadfab-2406-435c-bd0f-6ad1d3e9de53"
      },
      "execution_count": null,
      "outputs": [
        {
          "output_type": "stream",
          "name": "stdout",
          "text": [
            "Digite o valor do primeiro produto: 10\n",
            "Digite o valor do segundo produto: 20\n",
            "Digite o valor do terceiro produto: 5\n",
            "O produto 3 é o mais barato para comprar\n"
          ]
        }
      ]
    },
    {
      "cell_type": "code",
      "source": [
        "numero_1= int(input('Digite um número '))\n",
        "numero_2= int(input('Digite um número '))\n",
        "numero_3= int(input('Digite um número '))\n",
        "\n",
        "if numero_1>numero_2 and numero_1>numero_3:\n",
        "  if numero_2>numero_3:\n",
        "    print(f'{numero_1},{numero_2},{numero_3}')\n",
        "  else:\n",
        "    print(f'{numero_1},{numero_3},{numero_2}')\n",
        "\n",
        "elif numero_2>numero_1 and numero_2>numero_3:\n",
        "  if numero_1>numero_3:\n",
        "    print(f'{numero_2},{numero_1},{numero_3}')\n",
        "  else:\n",
        "    print(f'{numero_2},{numero_3},{numero_1}')\n",
        "\n",
        "elif numero_3>numero_1 and numero_3>numero_2:\n",
        "  if numero_1>numero_2:\n",
        "    print(f'{numero_3},{numero_1},{numero_2}')\n",
        "  else:\n",
        "    print(f'{numero_3},{numero_2},{numero_1}')"
      ],
      "metadata": {
        "colab": {
          "base_uri": "https://localhost:8080/"
        },
        "id": "DjYXJMMDf2HU",
        "outputId": "ef1e6947-446f-4126-ad92-613dd3e70407"
      },
      "execution_count": null,
      "outputs": [
        {
          "output_type": "stream",
          "name": "stdout",
          "text": [
            "Digite um número 1\n",
            "Digite um número 2\n",
            "Digite um número 3\n",
            "3,2,1\n"
          ]
        }
      ]
    },
    {
      "cell_type": "code",
      "source": [
        "turno=input('Qual período você estuda? (Digite manhã, tarde ou noite) ')\n",
        "if turno=='manhã'or turno=='manha':\n",
        "  print('Bom dia!')\n",
        "elif turno=='tarde':\n",
        "  print('Boa tarde!')\n",
        "elif turno=='noite':\n",
        "  print('Boa noite!')\n",
        "else:\n",
        "  print('Valor inválido')"
      ],
      "metadata": {
        "colab": {
          "base_uri": "https://localhost:8080/"
        },
        "id": "UAL6ZKN9hE2y",
        "outputId": "367d67de-6406-4965-c7a7-90330534a66f"
      },
      "execution_count": null,
      "outputs": [
        {
          "output_type": "stream",
          "name": "stdout",
          "text": [
            "Qual período você estuda? (Digite manhã, tarde ou noite) manha\n",
            "Bom dia!\n"
          ]
        }
      ]
    },
    {
      "cell_type": "code",
      "source": [
        "numero=int(input('Digite um número: '))\n",
        "if numero%2==0:\n",
        "  print(f'O número {numero} é par')\n",
        "else:\n",
        "  print(f'O número {numero} é ímpar')"
      ],
      "metadata": {
        "colab": {
          "base_uri": "https://localhost:8080/"
        },
        "id": "JnQrtOsbhzlQ",
        "outputId": "2d944a05-f08c-4a08-caae-7d5e28b6ddd8"
      },
      "execution_count": null,
      "outputs": [
        {
          "output_type": "stream",
          "name": "stdout",
          "text": [
            "Digite um número: 156\n",
            "O número 156 é par\n"
          ]
        }
      ]
    },
    {
      "cell_type": "code",
      "source": [
        "numero=float(input('Digite um número:'))\n",
        "\n",
        "if numero.is_integer()==False:\n",
        "  print(f'O número {numero} é decimal')\n",
        "else:\n",
        "  print(f'O número {numero} não é decimal')\n",
        "\n",
        "# Coletamos os dados\n",
        "num = float(input('Digite um número: '))\n",
        "\n",
        "# Verificamos se o número é inteiro ou decimal através do resultado do módulo\n",
        "if num % 1 == 0:\n",
        "    print('O número é inteiro.')\n",
        "else:\n",
        "    print('O número é decimal.')"
      ],
      "metadata": {
        "colab": {
          "base_uri": "https://localhost:8080/"
        },
        "id": "vxT-qzK-iBTD",
        "outputId": "a7dd7f68-f057-4c7a-e586-9308cbc51000"
      },
      "execution_count": null,
      "outputs": [
        {
          "output_type": "stream",
          "name": "stdout",
          "text": [
            "Digite um número:10.1\n",
            "O número 10.1 é decimal\n"
          ]
        }
      ]
    },
    {
      "cell_type": "code",
      "source": [
        "numero_1 = float(input('Digite um número: '))\n",
        "numero_2 = float(input('Digite um número: '))\n",
        "operação = input('Digite a operação (+, -, *, /): ')\n",
        "if operação == '+':\n",
        "  resultado=numero_1 + numero_2\n",
        "  if resultado%2==0 and resultado>0 and resultado.is_integer()==True:\n",
        "    print(f'O resultado é {resultado}, é par, positivo e inteiro')\n",
        "  elif resultado%2!=0 and resultado>0 and resultado.is_integer()==False:\n",
        "    print(f'O resultado é {resultado}, é ímpar, positivo e decimal')\n",
        "  elif resultado%2==0 and resultado<0 and resultado.is_integer()==True:\n",
        "    print(f'O resultado é {resultado}, é par, negativo e inteiro')\n",
        "  elif resultado%2!=0 and resultado<0 and resultado.is_integer()==False:\n",
        "    print(f'O resultado é {resultado}, é ímpar,negativo e decimal')\n",
        "elif operação == '-':\n",
        "  resultado=numero_1 - numero_2\n",
        "  if resultado%2==0 and resultado>0 and resultado.is_integer()==True:\n",
        "    print(f'O resultado é {resultado}, é par, positivo e inteiro')\n",
        "  elif resultado%2!=0 and resultado>0 and resultado.is_integer()==False:\n",
        "    print(f'O resultado é {resultado}, é ímpar, positivo e decimal')\n",
        "  elif resultado%2==0 and resultado<0 and resultado.is_integer()==True:\n",
        "    print(f'O resultado é {resultado}, é par, negativo e inteiro')\n",
        "  elif resultado%2!=0 and resultado<0 and resultado.is_integer()==False:\n",
        "    print(f'O resultado é {resultado}, é ímpar,negativo e decimal')\n",
        "\n",
        "elif operação == '*':\n",
        "  resultado=numero_1 * numero_2\n",
        "  if resultado%2==0 and resultado>0 and resultado.is_integer()==True:\n",
        "    print(f'O resultado é {resultado}, é par, positivo e inteiro')\n",
        "  elif resultado%2!=0 and resultado>0 and resultado.is_integer()==False:\n",
        "    print(f'O resultado é {resultado}, é ímpar, positivo e decimal')\n",
        "  elif resultado%2==0 and resultado<0 and resultado.is_integer()==True:\n",
        "    print(f'O resultado é {resultado}, é par, negativo e inteiro')\n",
        "  elif resultado%2!=0 and resultado<0 and resultado.is_integer()==False:\n",
        "    print(f'O resultado é {resultado}, é ímpar,negativo e decimal')\n",
        "\n",
        "elif operação == '/':\n",
        "  resultado=numero_1 / numero_2\n",
        "  if resultado%2==0 and resultado>0 and resultado.is_integer()==True:\n",
        "    print(f'O resultado é {resultado}, é par, positivo e inteiro')\n",
        "  elif resultado%2!=0 and resultado>0 and resultado.is_integer()==False:\n",
        "    print(f'O resultado é {resultado}, é ímpar, positivo e decimal')\n",
        "  elif resultado%2==0 and resultado<0 and resultado.is_integer()==True:\n",
        "    print(f'O resultado é {resultado}, é par, negativo e inteiro')\n",
        "  elif resultado%2!=0 and resultado<0 and resultado.is_integer()==False:\n",
        "    print(f'O resultado é {resultado}, é ímpar,negativo e decimal')\n",
        "\n",
        "else:\n",
        "  print('Operação inválida')\n",
        "\n",
        "\n",
        "# Coletamos os números a serem operados e solicitamos a operação desejada pela pessoa usuária\n",
        "num1 = float(input('Informe o primeiro número: '))\n",
        "num2 = float(input('Informe o segundo número: '))\n",
        "operacao = input('Informe a operação desejada (+, -, *, /): ')\n",
        "\n",
        "# Verificamos o operador que foi selecionado e executa a operação matemática conforme a seleção\n",
        "if operacao == '+':\n",
        "    resultado = num1 + num2\n",
        "elif operacao == '-':\n",
        "    resultado = num1 - num2\n",
        "elif operacao == '*':\n",
        "    resultado = num1 * num2\n",
        "elif operacao == '/':\n",
        "    resultado = num1 / num2\n",
        "else: # Especificamos um resultado caso a pessoa usuária não digite alguma das operações corretamente.\n",
        "    print('Operação inválida, resultado da operação será 0')\n",
        "    resultado = 0\n",
        "\n",
        "#  Fazemos as mesmas verificações das questões anteriores para fazer o relatório do cálculo entre números\n",
        "if resultado % 1 == 0:\n",
        "    print('O resultado é inteiro.')\n",
        "else:\n",
        "    print('O resultado é decimal.')\n",
        "\n",
        "if resultado > 0:\n",
        "    print('O resultado é positivo.')\n",
        "elif resultado == 0:\n",
        "    print('O resultado é neutro.')\n",
        "else:\n",
        "    print('O resultado é negativo.')\n",
        "\n",
        "if resultado % 2 == 0:\n",
        "    print('O resultado é par.')\n",
        "else:\n",
        "    print('O resultado é ímpar.')\n"
      ],
      "metadata": {
        "colab": {
          "base_uri": "https://localhost:8080/"
        },
        "id": "XmxGLQ4mjEB8",
        "outputId": "98a4e73e-3257-4c6e-861a-35c3f92ae233"
      },
      "execution_count": null,
      "outputs": [
        {
          "output_type": "stream",
          "name": "stdout",
          "text": [
            "Digite um número: 10\n",
            "Digite um número: 304\n",
            "Digite a operação (+, -, *, /): /\n",
            "O resultado é 0.03289473684210526, é ímpar, positivo e decimal\n"
          ]
        }
      ]
    },
    {
      "cell_type": "code",
      "source": [
        "lado_1 = float(input('Digite o valor do primeiro lado do triângulo: '))\n",
        "lado_2 = float(input('Digite o valor do segundo lado do triângulo: '))\n",
        "lado_3 = float(input('Digite o valor do terceiro lado do triângulo: '))\n",
        "\n",
        "if lado_1>0 and lado_2>0 and lado_3>0:\n",
        "  if lado_1+lado_2>lado_3 and lado_1+lado_3>lado_2 and lado_2+lado_3>lado_1:\n",
        "    print('É possível formar um triângulo')\n",
        "    if lado_1==lado_2 and lado_1==lado_3:\n",
        "      print('Lados de um Triângulo equilátero')\n",
        "    elif lado_1==lado_2 or lado_1==lado_3 or lado_2==lado_3:\n",
        "      print('Lados de um Triângulo isósceles')\n",
        "    else:\n",
        "      print('Lados de um Triângulo escaleno')\n",
        "  else:\n",
        "    print('Não é possível formar um triângulo, a soma de dois lados tem de ser maior que um.')\n",
        "else:\n",
        "  print('Não é possível formar um triângulo com lados negativos.')\n",
        "\n",
        "\n",
        "\n",
        "  # Coletamos os lados de um triângulo\n",
        "print('Coletaremos os lados de um triângulo.')\n",
        "lado1 = float(input('Digite o comprimento do primeiro lado: '))\n",
        "lado2 = float(input('Digite o comprimento do segundo lado: '))\n",
        "lado3 = float(input('Digite o comprimento do terceiro lado: '))\n",
        "\n",
        "# Verificamos de os lados formam um triângulo\n",
        "if (lado1 + lado2 > lado3) and (lado2 + lado3 > lado1) and (lado1 + lado3 > lado2):\n",
        "    print('Os valores podem formar um triângulo!')\n",
        "    # comparamos os lados para verificar o tipo de triângulo\n",
        "    if (lado1 == lado2) and (lado2 == lado3):\n",
        "        print('O triângulo é equilátero.')\n",
        "    elif (lado1 != lado2) and (lado2 != lado3) and (lado1 != lado3):\n",
        "        print('O triângulo é escaleno.')\n",
        "    else:\n",
        "        print('O triângulo é isósceles.')\n",
        "else:\n",
        "    print('Os valores não podem formar um triângulo!')\n"
      ],
      "metadata": {
        "colab": {
          "base_uri": "https://localhost:8080/"
        },
        "id": "ILsgaWSYnF6t",
        "outputId": "0207d7bc-b297-4c12-84f2-94037bd03090"
      },
      "execution_count": null,
      "outputs": [
        {
          "output_type": "stream",
          "name": "stdout",
          "text": [
            "Digite o valor do primeiro lado do triângulo: 10\n",
            "Digite o valor do segundo lado do triângulo: 10\n",
            "Digite o valor do terceiro lado do triângulo: 10\n",
            "Lados de um Triângulo equilátero\n"
          ]
        }
      ]
    },
    {
      "cell_type": "code",
      "source": [
        "tipo_combustível=input('Digite o tipo de combustível (E para Etanol ou D para Diesel): ')\n",
        "if tipo_combustível=='E' or tipo_combustível=='e':\n",
        "  litros=float(input('Digite a quantidade de litros: '))\n",
        "  if litros <=15:\n",
        "    desconto = litros*1.70*0.02\n",
        "    preço=litros*1.70-desconto\n",
        "    print(f'O preço a pagar é de R$ {preço:.2f}')\n",
        "  else:\n",
        "    desconto = litros*1.70*0.04\n",
        "    preço=litros*1.70-desconto\n",
        "    print(f'O preço a pagar é de R$ {preço:.2f}')\n",
        "elif tipo_combustível=='D' or tipo_combustível=='d':\n",
        "  litros=float(input('Digite a quantidade de litros: '))\n",
        "  if litros <=15:\n",
        "    desconto = litros*2.0*0.03\n",
        "    preço=litros*2.0-desconto\n",
        "    print(f'O preço a pagar é de R$ {preço:.2f}')\n",
        "  else:\n",
        "    desconto = litros*2.0*0.05\n",
        "    preço=litros*2.0-desconto\n",
        "    print(f'O preço a pagar é de R$ {preço:.2f}')\n",
        "else:\n",
        "  print('Tipo de combustível inválido')\n",
        "\n",
        "\n",
        "\n",
        "  # Coletamos a quantidade de litros e o tipo de combustível,\n",
        "# já deixando o caractere em maiúsculo para facilitar nossa análise\n",
        "quantidade_litros = float(input('Informe a quantidade de litros vendidos: '))\n",
        "tipo_combustivel = input('Informe o tipo de combustível (E para etanol e D para diesel): ').upper()\n",
        "\n",
        "#  Verificamos primeiro o tipo de combustível\n",
        "if tipo_combustivel == 'E':\n",
        "  # Taxamos o valor do preço em litros do etanol\n",
        "  preco_litro = 1.70\n",
        "  # De acordo com o valor da quantidade de litros, taxamos também o desconto\n",
        "  if quantidade_litros <= 15:\n",
        "    desconto = 0.02\n",
        "  else:\n",
        "    desconto = 0.04\n",
        "elif tipo_combustivel == 'D':\n",
        "  # Taxamos o valor do preço em litros do disel\n",
        "  preco_litro = 2.00\n",
        "  # De acordo com o valor da quantidade de litros, taxamos também o desconto\n",
        "  if quantidade_litros <= 15:\n",
        "    desconto = 0.03\n",
        "  else:\n",
        "    desconto = 0.05\n",
        "# Caso ocorra um erro na especificação de tipo de combustível,\n",
        "# consideramos entradas inválidas, e os preços são taxados em 0\n",
        "else:\n",
        "    print('Entradas inválidas!')\n",
        "    preco_litro = 0\n",
        "    desconto = 0\n",
        "\n",
        "# Fazemos o cálculo do valor de desconto, seguido do cálculo do preço descontado\n",
        "valor_desconto = preco_litro * quantidade_litros * desconto\n",
        "valor_pago = preco_litro * quantidade_litros - valor_desconto\n",
        "\n",
        "# Resultado\n",
        "print(f'Valor a ser pago pelo cliente: R$ {valor_pago}')"
      ],
      "metadata": {
        "colab": {
          "base_uri": "https://localhost:8080/"
        },
        "id": "pK38-5gnoiv5",
        "outputId": "64630ac0-4bec-4da9-e6f1-4e710313c546"
      },
      "execution_count": null,
      "outputs": [
        {
          "output_type": "stream",
          "name": "stdout",
          "text": [
            "Digite o tipo de combustível (E para Etanol ou D para Diesel): d\n",
            "Digite a quantidade de litros: 14.5678\n",
            "O preço a pagar é de R$ 28.26\n"
          ]
        }
      ]
    },
    {
      "cell_type": "code",
      "source": [
        "q_vendas_22=int(input('Digite a quantiade de vendas em 2022: '))\n",
        "q_vendas_23=int(input('Digite a quantiade de vendas em 2023: '))\n",
        "\n",
        "if q_vendas_23>q_vendas_22:\n",
        "  diferença=(q_vendas_23)-(q_vendas_22)\n",
        "  porcentagem =diferença/q_vendas_22*100\n",
        "\n",
        "  if porcentagem>=20:\n",
        "    print(f'Houve um variação positiva de {porcentagem:.2f}% nas vendas, sugiro uma bonificação para o time de vendas')\n",
        "  elif 20>porcentagem>2:\n",
        "    print(f'Houve uma variação positiva de {porcentagem:.2f}% nas vendas, sugiro uma pequena bonificação.')\n",
        "  elif 0<porcentagem<=2:\n",
        "      print(f'Houve uma variação positiva de {porcentagem:.2f}% nas vendas, planejamento de politicas de incentivo.')\n",
        "\n",
        "elif q_vendas_22>q_vendas_23:\n",
        "  diferença=q_vendas_22-q_vendas_23\n",
        "  porcentagem =diferença/q_vendas_23*100\n",
        "  porcentagem = porcentagem*-1\n",
        "  if 10*-1<porcentagem<=0:\n",
        "      print(f'Houve uma variação negativa de {porcentagem:.2f}% nas vendas, planejamento de politicas de incentivo.')\n",
        "  else:\n",
        "      print(f'Houve uma variação negativa de {porcentagem:.2f}% nas vendas, corte de gastos.')\n",
        "\n",
        "else:\n",
        "  print('A quantidade de vendas foi igual.')\n",
        "\n",
        "\n",
        "\n",
        "# Coletamos as vendas dos dois anos\n",
        "venda_2022 = float(input('Informe a quantidade de vendas em 2022: '))\n",
        "venda_2023 = float(input('Informe a quantidade de vendas em 2023: '))\n",
        "\n",
        "# Calculamos a variação percentual entre as vendas dos anos de 2022 e 2023\n",
        "var_percentual = 100 * (venda_2023 - venda_2022) / (venda_2022)\n",
        "\n",
        "# Análise condicional da variação percentual para determinar a sugestão a ser enviada\n",
        "if var_percentual > 20:\n",
        "    print('Bonificação para o time de vendas.')\n",
        "elif 2 <= var_percentual <= 20:\n",
        "    print('Pequena bonificação para time de vendas.')\n",
        "elif -10 <= var_percentual < 2:\n",
        "    print('Planejamento de políticas de incentivo às vendas.')\n",
        "else:\n",
        "    print('Corte de gastos.')"
      ],
      "metadata": {
        "colab": {
          "base_uri": "https://localhost:8080/"
        },
        "id": "zfD9KOgWsRMP",
        "outputId": "d8aa655d-6cf6-4f01-b457-f72148be0731"
      },
      "execution_count": null,
      "outputs": [
        {
          "output_type": "stream",
          "name": "stdout",
          "text": [
            "Digite a quantiade de vendas em 2022: 10\n",
            "Digite a quantiade de vendas em 2023: 1\n",
            "Houve uma variação negativa de -900.00% nas vendas, corte de gastos.\n",
            "Informe a quantidade de vendas em 2022: 10\n",
            "Informe a quantidade de vendas em 2023: 20\n",
            "Bonificação para o time de vendas.\n"
          ]
        }
      ]
    },
    {
      "cell_type": "markdown",
      "source": [
        "LAÇOS DE REPETIÇÃO\n"
      ],
      "metadata": {
        "id": "Xd_nUidjChKH"
      }
    },
    {
      "cell_type": "code",
      "source": [
        "nota1 = float(input(\"Digite a primeira nota: \"))\n",
        "nota2 = float(input(\"Digite a segunda nota: \"))\n",
        "\n",
        "print(f'A média é {(nota1+nota2)/2}')"
      ],
      "metadata": {
        "id": "oWe8cd3ICOdR"
      },
      "execution_count": null,
      "outputs": []
    },
    {
      "cell_type": "code",
      "source": [
        "contador=1\n",
        "while contador<=10:\n",
        "  print(contador)\n",
        "  contador+=1"
      ],
      "metadata": {
        "colab": {
          "base_uri": "https://localhost:8080/"
        },
        "id": "vVZ47LHjCkLn",
        "outputId": "4ca73220-5c47-4f61-fc95-afbdfb99b124"
      },
      "execution_count": null,
      "outputs": [
        {
          "output_type": "stream",
          "name": "stdout",
          "text": [
            "1\n",
            "2\n",
            "3\n",
            "4\n",
            "5\n",
            "6\n",
            "7\n",
            "8\n",
            "9\n",
            "10\n"
          ]
        }
      ]
    },
    {
      "cell_type": "code",
      "source": [
        "contador=1\n",
        "while contador<=3:\n",
        "  nota1 = float(input(\"Digite a primeira nota: \"))\n",
        "  nota2 = float(input(\"Digite a segunda nota: \"))\n",
        "\n",
        "  print(f'A média do aluno {contador} é {(nota1+nota2)/2}')\n",
        "  contador+=1"
      ],
      "metadata": {
        "colab": {
          "base_uri": "https://localhost:8080/"
        },
        "id": "jt4BcbvJEUwb",
        "outputId": "f017b290-e5a9-44bc-c446-66016c04eb8c"
      },
      "execution_count": null,
      "outputs": [
        {
          "output_type": "stream",
          "name": "stdout",
          "text": [
            "Digite a primeira nota: 0\n",
            "Digite a segunda nota: 0\n",
            "A média do aluno 1 é 0.0\n",
            "Digite a primeira nota: 0\n",
            "Digite a segunda nota: 0\n",
            "A média do aluno 2 é 0.0\n",
            "Digite a primeira nota: 0\n",
            "Digite a segunda nota: 0\n",
            "A média do aluno 3 é 0.0\n"
          ]
        }
      ]
    },
    {
      "cell_type": "code",
      "source": [
        "for contador in range(1,4):\n",
        "  nota1 = float(input(\"Digite a primeira nota: \"))\n",
        "  nota2 = float(input(\"Digite a segunda nota: \"))\n",
        "\n",
        "  print(f'A média do aluno {contador} é {(nota1+nota2)/2}')"
      ],
      "metadata": {
        "colab": {
          "base_uri": "https://localhost:8080/"
        },
        "id": "sAsBVq1OG9L6",
        "outputId": "770d7d67-a61f-4c7c-9287-2edfbf7e1a72"
      },
      "execution_count": null,
      "outputs": [
        {
          "output_type": "stream",
          "name": "stdout",
          "text": [
            "Digite a primeira nota: 1\n",
            "Digite a segunda nota: 2\n",
            "A média do aluno 1 é 1.5\n",
            "Digite a primeira nota: 3\n",
            "Digite a segunda nota: 4\n",
            "A média do aluno 2 é 3.5\n"
          ]
        }
      ]
    },
    {
      "cell_type": "code",
      "source": [
        "for i in range(1,6):\n",
        "    if i == 4:\n",
        "        continue\n",
        "    print(i)"
      ],
      "metadata": {
        "colab": {
          "base_uri": "https://localhost:8080/"
        },
        "id": "eoEGpOdtJQ6c",
        "outputId": "4607cf65-0dac-44e4-efa3-d535a3e88b21"
      },
      "execution_count": null,
      "outputs": [
        {
          "output_type": "stream",
          "name": "stdout",
          "text": [
            "1\n",
            "2\n",
            "3\n",
            "5\n"
          ]
        }
      ]
    },
    {
      "cell_type": "code",
      "source": [
        "for i in range(1,6):\n",
        "    if i == 4:\n",
        "        break\n",
        "    print(i)"
      ],
      "metadata": {
        "colab": {
          "base_uri": "https://localhost:8080/"
        },
        "id": "5SrDOsmjJc4V",
        "outputId": "4475bff7-4c8d-463d-b85d-e08f56a6ef69"
      },
      "execution_count": null,
      "outputs": [
        {
          "output_type": "stream",
          "name": "stdout",
          "text": [
            "1\n",
            "2\n",
            "3\n"
          ]
        }
      ]
    },
    {
      "cell_type": "code",
      "source": [
        "numero_1 = int(input('Digite um número: '))\n",
        "numero_2 = int(input('Digite outro número: '))\n",
        "\n",
        "for i in range(numero_1+1,numero_2):\n",
        "  print(i)"
      ],
      "metadata": {
        "colab": {
          "base_uri": "https://localhost:8080/"
        },
        "id": "vvbP1_99Nf9j",
        "outputId": "a0a3f465-a824-4529-fab5-e325c270b15b"
      },
      "execution_count": null,
      "outputs": [
        {
          "output_type": "stream",
          "name": "stdout",
          "text": [
            "Digite um número: 10\n",
            "Digite outro número: 20\n",
            "11\n",
            "12\n",
            "13\n",
            "14\n",
            "15\n",
            "16\n",
            "17\n",
            "18\n",
            "19\n"
          ]
        }
      ]
    },
    {
      "cell_type": "code",
      "source": [
        "colonia_a=4\n",
        "colonia_b=10\n",
        "\n",
        "dias=0\n",
        "\n",
        "crescimento_a=0.03\n",
        "crescimento_b=0.015\n",
        "\n",
        "while colonia_a<=colonia_b:\n",
        "  colonia_a*=1+crescimento_a\n",
        "  colonia_b*=1+crescimento_b\n",
        "  dias+=1\n",
        "\n",
        "print(f'A quantidade de dias para ultrapassar foram {dias}')\n",
        "print(colonia_a)\n",
        "print(colonia_b)"
      ],
      "metadata": {
        "colab": {
          "base_uri": "https://localhost:8080/"
        },
        "id": "H4T4SG_qNvvU",
        "outputId": "655586ad-2717-4f78-d7a1-3ad0be29c2b5"
      },
      "execution_count": null,
      "outputs": [
        {
          "output_type": "stream",
          "name": "stdout",
          "text": [
            "A quantidade de dias para ultrapassar foram 63\n",
            "25.75165514029833\n",
            "25.54822084811115\n"
          ]
        }
      ]
    },
    {
      "cell_type": "code",
      "source": [
        "for i in range(15):\n",
        "    nota=int(input(f'Digite a nota da pessoa usuária {i}: '))\n",
        "    while nota>5 or nota<0:\n",
        "      nota=int(input(f'Digite a nota corretamente da pessoa usuária {i}: '))\n",
        "    print(f'A nota da pessoa usuária {i} é {nota}')\n",
        "\n"
      ],
      "metadata": {
        "colab": {
          "base_uri": "https://localhost:8080/",
          "height": 391
        },
        "id": "1kh6EuE-OWLY",
        "outputId": "481f0f5b-2c2e-424b-c72b-4e7a644539f3"
      },
      "execution_count": null,
      "outputs": [
        {
          "output_type": "error",
          "ename": "KeyboardInterrupt",
          "evalue": "Interrupted by user",
          "traceback": [
            "\u001b[0;31m---------------------------------------------------------------------------\u001b[0m",
            "\u001b[0;31mKeyboardInterrupt\u001b[0m                         Traceback (most recent call last)",
            "\u001b[0;32m<ipython-input-7-2740b0058402>\u001b[0m in \u001b[0;36m<cell line: 1>\u001b[0;34m()\u001b[0m\n\u001b[1;32m      1\u001b[0m \u001b[0;32mfor\u001b[0m \u001b[0mi\u001b[0m \u001b[0;32min\u001b[0m \u001b[0mrange\u001b[0m\u001b[0;34m(\u001b[0m\u001b[0;36m1\u001b[0m\u001b[0;34m,\u001b[0m\u001b[0;36m16\u001b[0m\u001b[0;34m)\u001b[0m\u001b[0;34m:\u001b[0m\u001b[0;34m\u001b[0m\u001b[0;34m\u001b[0m\u001b[0m\n\u001b[0;32m----> 2\u001b[0;31m     \u001b[0mnota\u001b[0m\u001b[0;34m=\u001b[0m\u001b[0mint\u001b[0m\u001b[0;34m(\u001b[0m\u001b[0minput\u001b[0m\u001b[0;34m(\u001b[0m\u001b[0;34mf'Digite a nota da pessoa usuária {i}: '\u001b[0m\u001b[0;34m)\u001b[0m\u001b[0;34m)\u001b[0m\u001b[0;34m\u001b[0m\u001b[0;34m\u001b[0m\u001b[0m\n\u001b[0m\u001b[1;32m      3\u001b[0m     \u001b[0;32mwhile\u001b[0m \u001b[0mnota\u001b[0m\u001b[0;34m>\u001b[0m\u001b[0;36m5\u001b[0m \u001b[0;32mor\u001b[0m \u001b[0mnota\u001b[0m\u001b[0;34m<\u001b[0m\u001b[0;36m0\u001b[0m\u001b[0;34m:\u001b[0m\u001b[0;34m\u001b[0m\u001b[0;34m\u001b[0m\u001b[0m\n\u001b[1;32m      4\u001b[0m       \u001b[0mnota\u001b[0m\u001b[0;34m=\u001b[0m\u001b[0mint\u001b[0m\u001b[0;34m(\u001b[0m\u001b[0minput\u001b[0m\u001b[0;34m(\u001b[0m\u001b[0;34mf'Digite a nota corretamente da pessoa usuária 1{i}: '\u001b[0m\u001b[0;34m)\u001b[0m\u001b[0;34m)\u001b[0m\u001b[0;34m\u001b[0m\u001b[0;34m\u001b[0m\u001b[0m\n\u001b[1;32m      5\u001b[0m     \u001b[0mprint\u001b[0m\u001b[0;34m(\u001b[0m\u001b[0;34mf'A nota da pessoa usuária {i} é {nota}'\u001b[0m\u001b[0;34m)\u001b[0m\u001b[0;34m\u001b[0m\u001b[0;34m\u001b[0m\u001b[0m\n",
            "\u001b[0;32m/usr/local/lib/python3.10/dist-packages/ipykernel/kernelbase.py\u001b[0m in \u001b[0;36mraw_input\u001b[0;34m(self, prompt)\u001b[0m\n\u001b[1;32m    849\u001b[0m                 \u001b[0;34m\"raw_input was called, but this frontend does not support input requests.\"\u001b[0m\u001b[0;34m\u001b[0m\u001b[0;34m\u001b[0m\u001b[0m\n\u001b[1;32m    850\u001b[0m             )\n\u001b[0;32m--> 851\u001b[0;31m         return self._input_request(str(prompt),\n\u001b[0m\u001b[1;32m    852\u001b[0m             \u001b[0mself\u001b[0m\u001b[0;34m.\u001b[0m\u001b[0m_parent_ident\u001b[0m\u001b[0;34m,\u001b[0m\u001b[0;34m\u001b[0m\u001b[0;34m\u001b[0m\u001b[0m\n\u001b[1;32m    853\u001b[0m             \u001b[0mself\u001b[0m\u001b[0;34m.\u001b[0m\u001b[0m_parent_header\u001b[0m\u001b[0;34m,\u001b[0m\u001b[0;34m\u001b[0m\u001b[0;34m\u001b[0m\u001b[0m\n",
            "\u001b[0;32m/usr/local/lib/python3.10/dist-packages/ipykernel/kernelbase.py\u001b[0m in \u001b[0;36m_input_request\u001b[0;34m(self, prompt, ident, parent, password)\u001b[0m\n\u001b[1;32m    893\u001b[0m             \u001b[0;32mexcept\u001b[0m \u001b[0mKeyboardInterrupt\u001b[0m\u001b[0;34m:\u001b[0m\u001b[0;34m\u001b[0m\u001b[0;34m\u001b[0m\u001b[0m\n\u001b[1;32m    894\u001b[0m                 \u001b[0;31m# re-raise KeyboardInterrupt, to truncate traceback\u001b[0m\u001b[0;34m\u001b[0m\u001b[0;34m\u001b[0m\u001b[0m\n\u001b[0;32m--> 895\u001b[0;31m                 \u001b[0;32mraise\u001b[0m \u001b[0mKeyboardInterrupt\u001b[0m\u001b[0;34m(\u001b[0m\u001b[0;34m\"Interrupted by user\"\u001b[0m\u001b[0;34m)\u001b[0m \u001b[0;32mfrom\u001b[0m \u001b[0;32mNone\u001b[0m\u001b[0;34m\u001b[0m\u001b[0;34m\u001b[0m\u001b[0m\n\u001b[0m\u001b[1;32m    896\u001b[0m             \u001b[0;32mexcept\u001b[0m \u001b[0mException\u001b[0m \u001b[0;32mas\u001b[0m \u001b[0me\u001b[0m\u001b[0;34m:\u001b[0m\u001b[0;34m\u001b[0m\u001b[0;34m\u001b[0m\u001b[0m\n\u001b[1;32m    897\u001b[0m                 \u001b[0mself\u001b[0m\u001b[0;34m.\u001b[0m\u001b[0mlog\u001b[0m\u001b[0;34m.\u001b[0m\u001b[0mwarning\u001b[0m\u001b[0;34m(\u001b[0m\u001b[0;34m\"Invalid Message:\"\u001b[0m\u001b[0;34m,\u001b[0m \u001b[0mexc_info\u001b[0m\u001b[0;34m=\u001b[0m\u001b[0;32mTrue\u001b[0m\u001b[0;34m)\u001b[0m\u001b[0;34m\u001b[0m\u001b[0;34m\u001b[0m\u001b[0m\n",
            "\u001b[0;31mKeyboardInterrupt\u001b[0m: Interrupted by user"
          ]
        }
      ]
    },
    {
      "cell_type": "code",
      "source": [
        "lista_temperaturas=[]\n",
        "continuar=True\n",
        "while continuar:\n",
        "  temperatura=int(input('Digite a temperatura em celsius: '))\n",
        "  if temperatura==-273:\n",
        "    continuar=False\n",
        "    break\n",
        "  else:\n",
        "    lista_temperatura=lista_temperaturas.append(temperatura)\n",
        "    continuar=input('Deseja continuar? (s para sim; n para não): ')\n",
        "    while continuar!='n' and continuar!='s':\n",
        "        continuar=input('Deseja continuar? (s para sim; n para não): ')\n",
        "    if continuar=='n':\n",
        "      continuar=False\n",
        "      break\n",
        "    else:\n",
        "      continue\n",
        "\n",
        "print(f'A média das temperaturas foi de {sum(lista_temperaturas)/len(lista_temperaturas)}°C')\n",
        "\n",
        "\n",
        "# coletamos a temperatura\n",
        "temperatura = float(input('Insira a temperatura em Celsius: '))\n",
        "\n",
        "# inicializamos uma contadora e soma para a média\n",
        "contadora = 0\n",
        "soma = 0\n",
        "\n",
        "# nosso código executa sempre até o valor de temperatura for igual a -273\n",
        "while temperatura != -273:\n",
        "    # a soma é dada com a adição da temperatura à variavel soma\n",
        "    soma += temperatura\n",
        "    # contamos a quantidade de valores coletados através da contadora\n",
        "    contadora += 1\n",
        "    # coletamos novamente a temperatura\n",
        "    temperatura = float(input('Insira a temperatura em Celsius: '))\n",
        "\n",
        "media = soma / contadora\n",
        "\n",
        "print(f'A média das temperaturas é: {media}')"
      ],
      "metadata": {
        "colab": {
          "base_uri": "https://localhost:8080/"
        },
        "id": "mg_wGoqn4qhq",
        "outputId": "ccf70ffa-a9b5-4b2b-8f65-aad2f9404f1c"
      },
      "execution_count": null,
      "outputs": [
        {
          "output_type": "stream",
          "name": "stdout",
          "text": [
            "Digite a temperatura em celsius: 10\n",
            "Deseja continuar? (s para sim; n para não): 20\n",
            "Deseja continuar? (s para sim; n para não): s\n",
            "Digite a temperatura em celsius: 20\n",
            "Deseja continuar? (s para sim; n para não): 30\n",
            "Deseja continuar? (s para sim; n para não): s\n",
            "Digite a temperatura em celsius: -273\n",
            "A média das temperaturas foi de 15.0°C\n"
          ]
        }
      ]
    },
    {
      "cell_type": "code",
      "source": [
        "numero=int(input('Digite um número: '))\n",
        "multiplicação=1\n",
        "while numero<=0:\n",
        "    numero=int(input('Digite um número maior que zero: '))\n",
        "\n",
        "for i in range(1,numero+1):\n",
        "  multiplicação*=i\n",
        "print(multiplicação)\n",
        "\n",
        "# Pedir o número\n",
        "num = int(input('Informe um número inteiro: '))\n",
        "\n",
        "# Inicializar o cálculo\n",
        "fatorial = 1\n",
        "\n",
        "# nosso contador inicializa com o número máximo\n",
        "# e será feita uma contagem decrescente com o operador -=\n",
        "i = num\n",
        "while i > 0:\n",
        "    # queremos multiplicar agora o valor do fatorial pelo num\n",
        "    # e todos os números abaixo dele até 1\n",
        "    fatorial *= i\n",
        "    i -= 1\n",
        "\n",
        "# Imprimir o cálculo do fatorial\n",
        "print(f'Fatorial de {num} é {fatorial}')"
      ],
      "metadata": {
        "colab": {
          "base_uri": "https://localhost:8080/"
        },
        "id": "j4d5uk677wh1",
        "outputId": "e9f4a571-b2c0-4551-d482-bf5f4ff029f0"
      },
      "execution_count": null,
      "outputs": [
        {
          "output_type": "stream",
          "name": "stdout",
          "text": [
            "Digite um número: 0\n",
            "Digite um número maior que zero: -1\n",
            "Digite um número maior que zero: 1\n",
            "1\n"
          ]
        }
      ]
    },
    {
      "cell_type": "code",
      "source": [
        "numero=int(input('Digite um número de 1 a 10: '))\n",
        "while not 0<numero<10:\n",
        "    numero=int(input('Digite um número maior que zero e menor que dez: '))\n",
        "for i in range(1,11):\n",
        "  print(f'{numero} x {i} = {numero*i}')"
      ],
      "metadata": {
        "colab": {
          "base_uri": "https://localhost:8080/"
        },
        "id": "IfX3Lm_b_23P",
        "outputId": "b2e0b823-5dcd-4551-c2c8-2824ec7b1c5d"
      },
      "execution_count": null,
      "outputs": [
        {
          "output_type": "stream",
          "name": "stdout",
          "text": [
            "Digite um número de 1 a 10: 9\n",
            "9 x 1 = 9\n",
            "9 x 2 = 18\n",
            "9 x 3 = 27\n",
            "9 x 4 = 36\n",
            "9 x 5 = 45\n",
            "9 x 6 = 54\n",
            "9 x 7 = 63\n",
            "9 x 8 = 72\n",
            "9 x 9 = 81\n",
            "9 x 10 = 90\n"
          ]
        }
      ]
    },
    {
      "cell_type": "code",
      "source": [
        "numero=int(input('Digite um número: '))\n",
        "while numero<=0:\n",
        "    numero=int(input('Digite um número maior que zero: '))\n",
        "for i in range(2,numero+1):\n",
        "  if i==numero:\n",
        "    print(\"O número {} é primo!\".format(numero))\n",
        "  elif numero%i==0:\n",
        "    print(\"O número {} não é primo\".format(numero))\n",
        "    break\n",
        "  else:\n",
        "    continue\n",
        "\n",
        "# Solicitamos o número\n",
        "num = int(input(\"Digite o número: \"))\n",
        "\n",
        "# Assumimos que o número é primo até que se prove o contrário\n",
        "eh_primo = True\n",
        "\n",
        "# Números abaixo de 2 não são primos\n",
        "if num <= 1 :\n",
        "  eh_primo = False\n",
        "else:\n",
        "    for i in range(2, num):\n",
        "        # Se o número for divisível por qualquer número dentro deste intervalo,\n",
        "        # ele não é primo, portanto, mudamos a variável 'eh_primo' para False e saímos do loop.\n",
        "        if num % i == 0:\n",
        "            eh_primo = False\n",
        "            break\n",
        "\n",
        "# Verifica se 'eh_primo' ainda é True, o que significa que o número passou pelo loop\n",
        "# sem ser divisível por nenhum número além de 1 e ele mesmo.\n",
        "if eh_primo:\n",
        "    # Se for o caso, o número é primo.\n",
        "    print(f'O número {num} é primo')\n",
        "else:\n",
        "    # Caso contrário, o número não é primo.\n",
        "    print(f'O número {num} não é primo')"
      ],
      "metadata": {
        "colab": {
          "base_uri": "https://localhost:8080/"
        },
        "id": "wZRJdTBLBrGB",
        "outputId": "cf152fe2-60b0-4773-872b-93877d4d375a"
      },
      "execution_count": null,
      "outputs": [
        {
          "output_type": "stream",
          "name": "stdout",
          "text": [
            "Digite um número: 197\n",
            "O número 197 é primo!\n"
          ]
        }
      ]
    },
    {
      "cell_type": "code",
      "source": [
        "intervalo_1=0\n",
        "intervalo_2=0\n",
        "intervalo_3=0\n",
        "intervalo_4=0\n",
        "idade=1\n",
        "\n",
        "while idade>0:\n",
        "  idade=int(input('Digite a idade: '))\n",
        "  if idade<0:\n",
        "    break\n",
        "  else:\n",
        "    if idade<=25:\n",
        "      intervalo_1+=1\n",
        "    elif 26<idade<=50:\n",
        "      intervalo_2+=1\n",
        "    elif 50<idade<=75:\n",
        "      intervalo_3+=1\n",
        "    elif 75<idade<=100:\n",
        "      intervalo_4+=1\n",
        "    else:\n",
        "      continue\n",
        "print(f'A quantidade de pessoas com idade entre 0 e 25 anos é {intervalo_1}')\n",
        "print(f'A quantidade de pessoas com idade entre 26 e 50 anos é {intervalo_2}')\n",
        "print(f'A quantidade de pessoas com idade entre 51 e 75 anos é {intervalo_3}')\n",
        "print(f'A quantidade de pessoas com idade entre 76 e 100 anos é {intervalo_4}')\n",
        "\n"
      ],
      "metadata": {
        "colab": {
          "base_uri": "https://localhost:8080/"
        },
        "id": "wLtTg9m2Pccy",
        "outputId": "f769140f-541c-4c72-c015-94788f802e97"
      },
      "execution_count": null,
      "outputs": [
        {
          "output_type": "stream",
          "name": "stdout",
          "text": [
            "Digite a idade: 10\n",
            "Digite a idade: 20\n",
            "Digite a idade: 30\n",
            "Digite a idade: 40\n",
            "Digite a idade: 5\n",
            "Digite a idade: 50\n",
            "Digite a idade: 60\n",
            "Digite a idade: 70\n",
            "Digite a idade: 80\n",
            "Digite a idade: 90\n",
            "Digite a idade: 100\n",
            "Digite a idade: 111\n",
            "Digite a idade: -1\n",
            "A quantidade de pessoas com idade entre 0 e 25 anos é 3\n",
            "A quantidade de pessoas com idade entre 26 e 50 anos é 3\n",
            "A quantidade de pessoas com idade entre 51 e 75 anos é 2\n",
            "A quantidade de pessoas com idade entre 76 e 100 anos é 3\n"
          ]
        }
      ]
    },
    {
      "cell_type": "code",
      "source": [
        "colaborador_1=0\n",
        "colaborador_2=0\n",
        "colaborador_3=0\n",
        "colaborador_4=0\n",
        "nulo=0\n",
        "branco=0\n",
        "\n",
        "for i in range(0,20):\n",
        "  votação=int(input('Digite o número do candidato(sendo 5 e 6 nulo e braco, respectivamente): '))\n",
        "  while votação>6 or votação<1:\n",
        "    print('Voto inválido')\n",
        "    votação=int(input('Digite o número do candidato(sendo 5 e 6 nulo e braco, respectivamente): '))\n",
        "  if votação==1:\n",
        "    colaborador_1+=1\n",
        "  elif votação==2:\n",
        "    colaborador_2+=1\n",
        "  elif votação==3:\n",
        "    colaborador_3+=1\n",
        "  elif votação==4:\n",
        "    colaborador_4+=1\n",
        "  elif votação==6:\n",
        "    nulo+=1\n",
        "  else:\n",
        "   branco+=1\n",
        "p_nulo=nulo/20*100\n",
        "p_branco=branco/20*100\n",
        "77\n",
        "print(f'O candidato 1 teve {colaborador_1} votos')\n",
        "print(f'O candidato 2 teve {colaborador_2} votos')\n",
        "print(f'O candidato 3 teve {colaborador_3} votos')\n",
        "print(f'O candidato 4 teve {colaborador_4} votos')\n",
        "print(f'O nulo teve {nulo} votos e {p_nulo}% dos votos totais')\n",
        "print(f'O branco teve {branco} votos e {p_branco}% dos votos totais')\n"
      ],
      "metadata": {
        "colab": {
          "base_uri": "https://localhost:8080/"
        },
        "id": "COsBlQo_Q-SB",
        "outputId": "49f801e9-0afd-4f72-ec5a-30ae355d097b"
      },
      "execution_count": null,
      "outputs": [
        {
          "output_type": "stream",
          "name": "stdout",
          "text": [
            "Digite o número do candidato(sendo 5 e 6 nulo e braco, respectivamente): 1\n",
            "Digite o número do candidato(sendo 5 e 6 nulo e braco, respectivamente): -1\n",
            "Voto inválido\n",
            "Digite o número do candidato(sendo 5 e 6 nulo e braco, respectivamente): -2\n",
            "Voto inválido\n",
            "Digite o número do candidato(sendo 5 e 6 nulo e braco, respectivamente): 0\n",
            "Voto inválido\n",
            "Digite o número do candidato(sendo 5 e 6 nulo e braco, respectivamente): 1\n",
            "Digite o número do candidato(sendo 5 e 6 nulo e braco, respectivamente): 2\n",
            "O candidato 1 teve 2 votos\n",
            "O candidato 2 teve 1 votos\n",
            "O candidato 3 teve 0 votos\n",
            "O candidato 4 teve 0 votos\n",
            "O nulo teve 0 votos e 0.0% dos votos totais\n",
            "O branco teve 0 votos e 0.0% dos votos totais\n"
          ]
        }
      ]
    },
    {
      "cell_type": "code",
      "source": [
        "lista=[]\n",
        "lista.sort()\n",
        "lista.append()\n",
        "lista.pop()\n",
        "lista.index()\n",
        "lista.insert()"
      ],
      "metadata": {
        "id": "3mssKG0XS3nN"
      },
      "execution_count": null,
      "outputs": []
    },
    {
      "cell_type": "code",
      "source": [
        "dicionario={}\n",
        "dicionario={'matricula': 2000168933, 'dia_cadastro':25,\n",
        "            'mes_cadastro': 10, 'turma':'2E'}\n",
        "dicionario"
      ],
      "metadata": {
        "colab": {
          "base_uri": "https://localhost:8080/"
        },
        "id": "VZ5ddDTZCN9r",
        "outputId": "54852e2e-1958-4d4b-95f8-9be11ba79ddc"
      },
      "execution_count": null,
      "outputs": [
        {
          "output_type": "execute_result",
          "data": {
            "text/plain": [
              "{'matricula': 2000168933,\n",
              " 'dia_cadastro': 25,\n",
              " 'mes_cadastro': 10,\n",
              " 'turma': '2E'}"
            ]
          },
          "metadata": {},
          "execution_count": 9
        }
      ]
    },
    {
      "cell_type": "code",
      "source": [
        "dicionario['matricula']"
      ],
      "metadata": {
        "colab": {
          "base_uri": "https://localhost:8080/"
        },
        "id": "xcrMruNhEWQi",
        "outputId": "c00d99ec-375e-46c2-9f92-752b78879d01"
      },
      "execution_count": null,
      "outputs": [
        {
          "output_type": "execute_result",
          "data": {
            "text/plain": [
              "2000168933"
            ]
          },
          "metadata": {},
          "execution_count": 3
        }
      ]
    },
    {
      "cell_type": "code",
      "source": [
        "dicionario['turma'] = '2A'\n",
        "dicionario"
      ],
      "metadata": {
        "colab": {
          "base_uri": "https://localhost:8080/"
        },
        "id": "4nYbWu4GEer2",
        "outputId": "f4cc0fd9-9101-4280-d73f-89ab316fefb9"
      },
      "execution_count": null,
      "outputs": [
        {
          "output_type": "execute_result",
          "data": {
            "text/plain": [
              "{'matricula': 2000168933,\n",
              " 'dia_cadastro': 25,\n",
              " 'mes_cadastro': 10,\n",
              " 'turma': '2A'}"
            ]
          },
          "metadata": {},
          "execution_count": 4
        }
      ]
    },
    {
      "cell_type": "code",
      "source": [
        "dicionario['modalidade']= 'EAD'\n",
        "dicionario"
      ],
      "metadata": {
        "colab": {
          "base_uri": "https://localhost:8080/"
        },
        "id": "UpkjxTnGEms_",
        "outputId": "4f8ed478-2ac0-40a1-db60-b931c8c98d13"
      },
      "execution_count": null,
      "outputs": [
        {
          "output_type": "execute_result",
          "data": {
            "text/plain": [
              "{'matricula': 2000168933,\n",
              " 'dia_cadastro': 25,\n",
              " 'mes_cadastro': 10,\n",
              " 'turma': '2E',\n",
              " 'modalidade': 'EAD'}"
            ]
          },
          "metadata": {},
          "execution_count": 10
        }
      ]
    },
    {
      "cell_type": "code",
      "source": [
        "dicionario.pop('turma')\n"
      ],
      "metadata": {
        "colab": {
          "base_uri": "https://localhost:8080/",
          "height": 36
        },
        "id": "-fzd5k9wFmKy",
        "outputId": "3d81fc26-3f88-4734-89c3-d158e23a1ef2"
      },
      "execution_count": null,
      "outputs": [
        {
          "output_type": "execute_result",
          "data": {
            "text/plain": [
              "'2E'"
            ],
            "application/vnd.google.colaboratory.intrinsic+json": {
              "type": "string"
            }
          },
          "metadata": {},
          "execution_count": 11
        }
      ]
    },
    {
      "cell_type": "code",
      "source": [
        "dicionario.items()"
      ],
      "metadata": {
        "colab": {
          "base_uri": "https://localhost:8080/"
        },
        "id": "2jEPPw29GCPq",
        "outputId": "bb37d669-294c-46be-823c-4e8bee8b50b5"
      },
      "execution_count": null,
      "outputs": [
        {
          "output_type": "execute_result",
          "data": {
            "text/plain": [
              "dict_items([('matricula', 2000168933), ('dia_cadastro', 25), ('mes_cadastro', 10), ('modalidade', 'EAD')])"
            ]
          },
          "metadata": {},
          "execution_count": 12
        }
      ]
    },
    {
      "cell_type": "code",
      "source": [
        "dicionario.keys()"
      ],
      "metadata": {
        "colab": {
          "base_uri": "https://localhost:8080/"
        },
        "id": "CGe40LbEGLV8",
        "outputId": "db7a0420-91db-420d-cd9b-50b768b2e489"
      },
      "execution_count": null,
      "outputs": [
        {
          "output_type": "execute_result",
          "data": {
            "text/plain": [
              "dict_keys(['matricula', 'dia_cadastro', 'mes_cadastro', 'modalidade'])"
            ]
          },
          "metadata": {},
          "execution_count": 13
        }
      ]
    },
    {
      "cell_type": "code",
      "source": [
        "dicionario.values()"
      ],
      "metadata": {
        "colab": {
          "base_uri": "https://localhost:8080/"
        },
        "id": "G6yOPs6PGRha",
        "outputId": "06638e52-721e-4203-95b6-c3945ae851b4"
      },
      "execution_count": null,
      "outputs": [
        {
          "output_type": "execute_result",
          "data": {
            "text/plain": [
              "dict_values([2000168933, 25, 10, 'EAD'])"
            ]
          },
          "metadata": {},
          "execution_count": 14
        }
      ]
    },
    {
      "cell_type": "code",
      "source": [
        "for chaves in dicionario.keys():\n",
        "  print(dicionario[chaves])"
      ],
      "metadata": {
        "colab": {
          "base_uri": "https://localhost:8080/"
        },
        "id": "HScE4B8VGb73",
        "outputId": "853eafa8-28cc-400b-d7e5-305f393463be"
      },
      "execution_count": null,
      "outputs": [
        {
          "output_type": "stream",
          "name": "stdout",
          "text": [
            "2000168933\n",
            "25\n",
            "10\n",
            "EAD\n"
          ]
        }
      ]
    },
    {
      "cell_type": "code",
      "source": [
        "for chaves,valores in dicionario.items():\n",
        "  print(f'A chave {chaves} tem valor {valores}')"
      ],
      "metadata": {
        "colab": {
          "base_uri": "https://localhost:8080/"
        },
        "id": "TG2q2kcbHHxV",
        "outputId": "9e7b3bd1-cee8-42b7-9e63-f177f4f3d117"
      },
      "execution_count": null,
      "outputs": [
        {
          "output_type": "stream",
          "name": "stdout",
          "text": [
            "A chave matricula tem valor 2000168933\n",
            "A chave dia_cadastro tem valor 25\n",
            "A chave mes_cadastro tem valor 10\n",
            "A chave modalidade tem valor EAD\n"
          ]
        }
      ]
    },
    {
      "cell_type": "code",
      "source": [
        "loja = {'nomes': ['televisão', 'celular', 'notebook', 'geladeira', 'fogão'],\n",
        "        'precos': [2000, 1500, 3500, 4000, 1500]}\n",
        "\n",
        "for chave, elementos in loja.items():\n",
        "  print(f'Chave: {chave}\\nElementos:')\n",
        "  for dado in elementos:\n",
        "    print(dado)"
      ],
      "metadata": {
        "colab": {
          "base_uri": "https://localhost:8080/"
        },
        "id": "uXuVPIjYHz5x",
        "outputId": "a75f3c7a-9254-4429-a563-9cb259312956"
      },
      "execution_count": null,
      "outputs": [
        {
          "output_type": "stream",
          "name": "stdout",
          "text": [
            "Chave: nomes\n",
            "Elementos:\n",
            "televisão\n",
            "celular\n",
            "notebook\n",
            "geladeira\n",
            "fogão\n",
            "Chave: precos\n",
            "Elementos:\n",
            "2000\n",
            "1500\n",
            "3500\n",
            "4000\n",
            "1500\n"
          ]
        }
      ]
    },
    {
      "cell_type": "code",
      "source": [
        "precos = [100.0, 400.0, 200.0]\n",
        "soma = sum(precos)\n",
        "soma"
      ],
      "metadata": {
        "colab": {
          "base_uri": "https://localhost:8080/"
        },
        "id": "Yq0mVX8XIXVA",
        "outputId": "6ae354bf-0a92-4055-cc4e-7be1e02ee769"
      },
      "execution_count": null,
      "outputs": [
        {
          "output_type": "execute_result",
          "data": {
            "text/plain": [
              "700.0"
            ]
          },
          "metadata": {},
          "execution_count": 24
        }
      ]
    },
    {
      "cell_type": "code",
      "source": [
        "help(print)"
      ],
      "metadata": {
        "colab": {
          "base_uri": "https://localhost:8080/"
        },
        "id": "tWmDVuYbIZrC",
        "outputId": "1ceaca53-f0b8-4589-9592-9379f8758af1"
      },
      "execution_count": null,
      "outputs": [
        {
          "output_type": "stream",
          "name": "stdout",
          "text": [
            "Help on built-in function print in module builtins:\n",
            "\n",
            "print(...)\n",
            "    print(value, ..., sep=' ', end='\\n', file=sys.stdout, flush=False)\n",
            "    \n",
            "    Prints the values to a stream, or to sys.stdout by default.\n",
            "    Optional keyword arguments:\n",
            "    file:  a file-like object (stream); defaults to the current sys.stdout.\n",
            "    sep:   string inserted between values, default a space.\n",
            "    end:   string appended after the last value, default a newline.\n",
            "    flush: whether to forcibly flush the stream.\n",
            "\n"
          ]
        }
      ]
    },
    {
      "cell_type": "code",
      "source": [
        "lista = [1,2,3]\n",
        "dir(lista)"
      ],
      "metadata": {
        "colab": {
          "base_uri": "https://localhost:8080/"
        },
        "id": "RKS_Skz5InLp",
        "outputId": "7c900bdc-c2ec-4f9f-b58c-0260272a4775"
      },
      "execution_count": null,
      "outputs": [
        {
          "output_type": "execute_result",
          "data": {
            "text/plain": [
              "['__add__',\n",
              " '__class__',\n",
              " '__class_getitem__',\n",
              " '__contains__',\n",
              " '__delattr__',\n",
              " '__delitem__',\n",
              " '__dir__',\n",
              " '__doc__',\n",
              " '__eq__',\n",
              " '__format__',\n",
              " '__ge__',\n",
              " '__getattribute__',\n",
              " '__getitem__',\n",
              " '__gt__',\n",
              " '__hash__',\n",
              " '__iadd__',\n",
              " '__imul__',\n",
              " '__init__',\n",
              " '__init_subclass__',\n",
              " '__iter__',\n",
              " '__le__',\n",
              " '__len__',\n",
              " '__lt__',\n",
              " '__mul__',\n",
              " '__ne__',\n",
              " '__new__',\n",
              " '__reduce__',\n",
              " '__reduce_ex__',\n",
              " '__repr__',\n",
              " '__reversed__',\n",
              " '__rmul__',\n",
              " '__setattr__',\n",
              " '__setitem__',\n",
              " '__sizeof__',\n",
              " '__str__',\n",
              " '__subclasshook__',\n",
              " 'append',\n",
              " 'clear',\n",
              " 'copy',\n",
              " 'count',\n",
              " 'extend',\n",
              " 'index',\n",
              " 'insert',\n",
              " 'pop',\n",
              " 'remove',\n",
              " 'reverse',\n",
              " 'sort']"
            ]
          },
          "metadata": {},
          "execution_count": 26
        }
      ]
    },
    {
      "cell_type": "markdown",
      "source": [
        "DESAFIOS\n"
      ],
      "metadata": {
        "id": "nASeTTWYI2yV"
      }
    },
    {
      "cell_type": "code",
      "source": [
        "lista =[2172.54, 3701.35, 3518.09, 3456.61, 3249.38, 2840.82, 3891.45, 3075.26, 2317.64, 3219.08]\n",
        "\n",
        "media=sum(lista)/len(lista)\n",
        "media\n"
      ],
      "metadata": {
        "colab": {
          "base_uri": "https://localhost:8080/"
        },
        "id": "aijV8pTQI3-c",
        "outputId": "178f69de-e439-48c5-b5b7-8b29203693f1"
      },
      "execution_count": null,
      "outputs": [
        {
          "output_type": "execute_result",
          "data": {
            "text/plain": [
              "3144.222"
            ]
          },
          "metadata": {},
          "execution_count": 34
        }
      ]
    },
    {
      "cell_type": "code",
      "source": [
        "compras_acima_3000=0\n",
        "for i in lista:\n",
        "  if i>3000:\n",
        "    compras_acima_3000+=1\n",
        "print(f'A quantidade de compras_acima_3000 acima de 3000 foi de {compras_acima_3000}')\n",
        "print(compras_acima_3000/len(lista)*100)\n"
      ],
      "metadata": {
        "colab": {
          "base_uri": "https://localhost:8080/"
        },
        "id": "yab1ds0oJMlG",
        "outputId": "5db68360-9ef7-47b0-f389-cbc5162fb4c1"
      },
      "execution_count": null,
      "outputs": [
        {
          "output_type": "stream",
          "name": "stdout",
          "text": [
            "A quantidade de compras acima de 3000 foi de 7\n",
            "70.0\n"
          ]
        }
      ]
    },
    {
      "cell_type": "code",
      "source": [
        "lista=[]\n",
        "for i in range(5):\n",
        "  lista.append(int(input('Digite um número: ')))\n",
        "lista"
      ],
      "metadata": {
        "colab": {
          "base_uri": "https://localhost:8080/"
        },
        "id": "B988zoCyKF2Q",
        "outputId": "61fb0a42-2c5d-4f15-cfc1-43447b08139d"
      },
      "execution_count": null,
      "outputs": [
        {
          "name": "stdout",
          "output_type": "stream",
          "text": [
            "Digite um número: 1\n",
            "Digite um número: 2\n",
            "Digite um número: 5\n",
            "Digite um número: 3\n",
            "Digite um número: 4\n"
          ]
        },
        {
          "output_type": "execute_result",
          "data": {
            "text/plain": [
              "[1, 2, 5, 3, 4]"
            ]
          },
          "metadata": {},
          "execution_count": 38
        }
      ]
    },
    {
      "cell_type": "code",
      "source": [
        "lista=[]\n",
        "for i in range(5):\n",
        "  lista.append((int(input('Digite um número: '))))\n",
        "\n",
        "lista.reverse()\n",
        "print(lista)\n",
        "\n",
        "# Lista que irá armazenar os 5 números inteiros\n",
        "lista_numeros = []\n",
        "\n",
        "# Criamos um laço que vai iterar 5 vezes para receber os 5 números\n",
        "for i in range(0, 5):\n",
        "  # Coletamos o valor e inserimos na lista por 5 vezes\n",
        "  numero = int(input('Digite um número inteiro: '))\n",
        "  lista_numeros.append(numero)\n",
        "# Usamos da lógica de partição para imprimir o resultado\n",
        "print(f'Lista de números invertida: {lista_numeros[::-1]}')\n",
        "\n"
      ],
      "metadata": {
        "colab": {
          "base_uri": "https://localhost:8080/"
        },
        "id": "z6eCXy0WKqA-",
        "outputId": "8bdc1002-d7f2-48b0-be2f-18cc488b9331"
      },
      "execution_count": null,
      "outputs": [
        {
          "output_type": "stream",
          "name": "stdout",
          "text": [
            "Digite um número: 1\n",
            "Digite um número: 2\n",
            "Digite um número: 3\n",
            "Digite um número: 4\n",
            "Digite um número: 5\n",
            "[5, 4, 3, 2, 1]\n"
          ]
        }
      ]
    },
    {
      "cell_type": "code",
      "source": [
        "\n",
        "numero=int(input('Digite um número: '))\n",
        "lista=[]\n",
        "for num in range(1, numero+1):\n",
        "  for teste_divisivel in range(2, num):\n",
        "    if num % teste_divisivel==0:\n",
        "      break\n",
        "    else:\n",
        "      continue\n",
        "  else:\n",
        "    lista.append(num)\n",
        "print(lista)\n",
        "\n",
        "\n",
        "# Coletamos o números\n",
        "numero = int(input('Digite um número inteiro: '))\n",
        "# Lista para receber os números primos\n",
        "lista_primos = []\n",
        "# Laço que vai rodar por todos os números abaixo do número digitado\n",
        "for num in range(2, numero):\n",
        "  # Primo é uma bandeira, ela permite sabermos se o valor analisado é ou não primo\n",
        "  primo = True\n",
        "  # Testamos se todos os números abaixo do especificado no primeiro laço podem\n",
        "  # gerar uma divisão exata\n",
        "  for teste_divisiveis in range(2, num):\n",
        "    if num % teste_divisiveis == 0:\n",
        "      # Caso seja divisivel por algum número entendemos que\n",
        "      # o num não é primo e finalizamos o laço interno com break\n",
        "      primo = False\n",
        "      break\n",
        "  # A condição se torna o resultado booleno de primo: False, ignoramos o condicional\n",
        "  # True, executamos o bloco do if\n",
        "  if primo:\n",
        "    lista_primos.append(num)\n",
        "# Resultado\n",
        "print(f'Lista de números primos: {lista_primos}')\n",
        "\n"
      ],
      "metadata": {
        "colab": {
          "base_uri": "https://localhost:8080/"
        },
        "id": "f4j5ziTJMU00",
        "outputId": "d7a744b1-2342-4c45-da8e-0c006f9914eb"
      },
      "execution_count": null,
      "outputs": [
        {
          "output_type": "stream",
          "name": "stdout",
          "text": [
            "Digite um número: 1\n",
            "[1]\n",
            "Digite um número inteiro: 2\n",
            "Lista de números primos: []\n"
          ]
        }
      ]
    },
    {
      "cell_type": "code",
      "source": [
        "data=input('Digite a data no formato dd/mm/aaaa: ')\n",
        "\n",
        "while len(data)!=10 or data[2]!='/' or data[5]!='/' or not data[0:2].isnumeric() or not data[3:5].isnumeric() or not data[6:10].isnumeric():\n",
        "  data=input('Digite a data no formato dd/mm/aaaa: ')\n",
        "\n",
        "lista=data.split('/')\n",
        "lista\n",
        "dicionario={'dia':lista[0], 'mes':lista[1], 'ano':lista[2]}\n",
        "print(dicionario)\n",
        "\n",
        "\n",
        "# Coletamos a data\n",
        "dia = int(input('Digite o dia: '))\n",
        "mes = int(input('Digite o mês: '))\n",
        "ano = int(input('Digite o ano: '))\n",
        "\n",
        "# Análise de fevereiro\n",
        "if mes == 2:\n",
        "  # Verificamos se é ou não um ano bissexto\n",
        "  if ano % 4 == 0 and (ano % 400 == 0 or ano % 100 != 0):\n",
        "    dias_fevereiro = 29\n",
        "  else:\n",
        "    dias_fevereiro = 28\n",
        "  # Verificamos se o dia colocado corresponde ao máximo de dias de fevereiro\n",
        "  if dia >= 1 and dia <= dias_fevereiro:\n",
        "    print('Data válida')\n",
        "  else:\n",
        "    print('Data inválida')\n",
        "# Verificamos meses terminados em 31 dias\n",
        "elif mes in [1, 3, 5, 7, 8, 10, 12]:\n",
        "  if dia >= 1 and dia <= 31:\n",
        "    print('Data válida')\n",
        "  else:\n",
        "    print('Data inválida')\n",
        "# Verificamos meses terminados em 30 dias\n",
        "elif mes in [4, 6, 9, 11]:\n",
        "  if dia >= 1 and dia <= 30:\n",
        "    print('Data válida')\n",
        "  else:\n",
        "    print('Data inválida')\n",
        "# Caso o mês não esteja entre 1 e 12\n",
        "else:\n",
        "  print('Data inválida')"
      ],
      "metadata": {
        "colab": {
          "base_uri": "https://localhost:8080/"
        },
        "id": "Ii1vYYkrPq1d",
        "outputId": "b9b45343-5b9c-46e4-ebae-8970942d3626"
      },
      "execution_count": null,
      "outputs": [
        {
          "output_type": "stream",
          "name": "stdout",
          "text": [
            "Digite a data no formato dd/mm/aaaa: 21\n",
            "Digite a data no formato dd/mm/aaaa: 21/20/2004\n",
            "{'dia': '21', 'mes': '20', 'ano': '2004'}\n",
            "Digite o dia: 40\n",
            "Digite o mês: 30\n",
            "Digite o ano: 2024\n",
            "Data inválida\n"
          ]
        }
      ]
    },
    {
      "cell_type": "code",
      "source": [
        "numero_bacterias=[1.2, 2.1, 3.3, 5.0, 7.8, 11.3, 16.6, 25.1, 37.8, 56.9]\n",
        "lista_porcentagem=[]\n",
        "for i in range(len(numero_bacterias) - 1):\n",
        "  porcentagem_crescimento=((numero_bacterias[i+1]-numero_bacterias[i])*100)/numero_bacterias[i]\n",
        "  lista_porcentagem.append(porcentagem_crescimento)\n",
        "for i in range(len(lista_porcentagem)):\n",
        "  print(f'dia {i + 1}: {lista_porcentagem[i]:.2f} %')\n",
        "\n",
        "# Lista de crescimento das bactérias\n",
        "bacterias_colonia = [1.2, 2.1, 3.3, 5.0, 7.8, 11.3, 16.6, 25.1, 37.8, 56.9]\n",
        "# Lista que irá armazenar as porcentagens de crescimento\n",
        "porcentagem_crescimento = []\n",
        "# Vamos percorrer os índices de 1 a 9 para compararmos o valor atual com o passado\n",
        "for i in range(1, len(bacterias_colonia)):\n",
        "  # seguimos o cálculo 100 * (amostra_atual - amostra_passada) / (amostra_passada)\n",
        "  porcentagem = 100 * (bacterias_colonia[i] - bacterias_colonia[i-1]) / (bacterias_colonia[i-1])\n",
        "  # adicionamos o resultado na lista porcentagem_crescimento\n",
        "  porcentagem_crescimento.append(porcentagem)\n",
        "# Resultado\n",
        "print(f'Porcentagens de crescimento:\\n{porcentagem_crescimento}')\n"
      ],
      "metadata": {
        "colab": {
          "base_uri": "https://localhost:8080/"
        },
        "id": "MX_KWOqLQgN3",
        "outputId": "d17a23aa-b967-4e27-b494-383702095492"
      },
      "execution_count": null,
      "outputs": [
        {
          "output_type": "stream",
          "name": "stdout",
          "text": [
            "dia 1: 75.00 %\n",
            "dia 2: 57.14 %\n",
            "dia 3: 51.52 %\n",
            "dia 4: 56.00 %\n",
            "dia 5: 44.87 %\n",
            "dia 6: 46.90 %\n",
            "dia 7: 51.20 %\n",
            "dia 8: 50.60 %\n",
            "dia 9: 50.53 %\n",
            "Porcentagens de crescimento:\n",
            "[75.00000000000001, 57.142857142857125, 51.51515151515153, 56.0, 44.87179487179489, 46.90265486725664, 51.20481927710843, 50.59760956175297, 50.52910052910054]\n"
          ]
        }
      ]
    },
    {
      "cell_type": "code",
      "source": [
        "doce=0\n",
        "amargo=0\n",
        "lista=[]\n",
        "for i in range(10):\n",
        "  lista.append(int(input(f'Digite o {i+1} do ID: ')))\n",
        "  if lista[i]%2==0:\n",
        "    doce+=1\n",
        "  else:\n",
        "    amargo+=1\n",
        "print(f'A quantidade de doces é {doce}')\n",
        "print(f'A quantidade de amargos é {amargo}')\n"
      ],
      "metadata": {
        "colab": {
          "base_uri": "https://localhost:8080/"
        },
        "id": "ud7QSauoTvqx",
        "outputId": "4bc7d171-7243-42b2-815e-200c2ee1dcc5"
      },
      "execution_count": null,
      "outputs": [
        {
          "output_type": "stream",
          "name": "stdout",
          "text": [
            "Digite o 1 do ID: 1\n",
            "Digite o 2 do ID: 1\n",
            "Digite o 3 do ID: 1\n",
            "Digite o 4 do ID: 2\n",
            "Digite o 5 do ID: 2\n",
            "Digite o 6 do ID: 2\n",
            "Digite o 7 do ID: 3\n",
            "Digite o 8 do ID: 3\n",
            "Digite o 9 do ID: 3\n",
            "Digite o 10 do ID: 4\n",
            "A quantidade de doces é 4\n",
            "A quantidade de amargos é 6\n"
          ]
        }
      ]
    },
    {
      "cell_type": "code",
      "source": [
        "gabarito=['D','A','C','B','A','D','C','C','A','B']\n",
        "respostas=[]\n",
        "nota=0\n",
        "for i in range(len(gabarito)):\n",
        "  respostas.append(input(f'Digite a resposta da {i+1}° questão (A,B,C ou D): ').upper())\n",
        "  while respostas[i]!='A' and respostas[i]!='B' and respostas[i]!='C' and respostas[i]!='D':\n",
        "    respostas[i]=input('Digite a resposta da questão correta! (A,B,C ou D): ')\n",
        "  if respostas[i]==gabarito[i]:\n",
        "    nota+=1\n",
        "  else:\n",
        "    continue\n",
        "print(f'A nota do aluno foi {nota}.0')\n",
        "\n",
        "\n"
      ],
      "metadata": {
        "colab": {
          "base_uri": "https://localhost:8080/"
        },
        "id": "omFjW1sv_lr-",
        "outputId": "9b79c37c-6a2b-4070-e504-f2aff34604dc"
      },
      "execution_count": null,
      "outputs": [
        {
          "output_type": "stream",
          "name": "stdout",
          "text": [
            "Digite a resposta da 1° questão (A,B,C ou D): a\n",
            "Digite a resposta da 2° questão (A,B,C ou D): a\n",
            "Digite a resposta da 3° questão (A,B,C ou D): c\n",
            "Digite a resposta da 4° questão (A,B,C ou D): b\n",
            "Digite a resposta da 5° questão (A,B,C ou D): a\n",
            "Digite a resposta da 6° questão (A,B,C ou D): d\n",
            "Digite a resposta da 7° questão (A,B,C ou D): c\n",
            "Digite a resposta da 8° questão (A,B,C ou D): a\n",
            "Digite a resposta da 9° questão (A,B,C ou D): b\n",
            "Digite a resposta da 10° questão (A,B,C ou D): b\n",
            "A nota do aluno foi 7.0\n"
          ]
        }
      ]
    },
    {
      "cell_type": "code",
      "source": [
        "media_temperatura=[]\n",
        "mes=['janeiro','fevereiro','março','abril','maio','junho','julho','agosto','setembro','outubro','novembro','dezembro']\n",
        "\n",
        "for i in range(12):\n",
        "  media_temperatura.append(float(input(f'Digite a temperatura média do mês de {mes[i]}: ')))\n",
        "  while media_temperatura[i]<0:\n",
        "    media_temperatura[i]=float(input(f'Digite a temperatura média do mês {mes[i]}: '))\n",
        "  media_anual=sum(media_temperatura)/len(media_temperatura)\n",
        "print(f'A média anual foi de {media_anual:.2f}')\n",
        "for i in range(len(media_temperatura)):\n",
        "  if media_temperatura[i]>media_anual:\n",
        "    print(f'O mês {mes[i]} teve temperatura acima da média anual ({media_temperatura[i]})')\n",
        "  else:\n",
        "    continue"
      ],
      "metadata": {
        "colab": {
          "base_uri": "https://localhost:8080/"
        },
        "id": "s24xBBfrBR0E",
        "outputId": "be975a55-5316-4514-f85c-45c397262e79"
      },
      "execution_count": null,
      "outputs": [
        {
          "output_type": "stream",
          "name": "stdout",
          "text": [
            "Digite a temperatura média do mês de janeiro: 20\n",
            "Digite a temperatura média do mês de fevereiro: 3\n",
            "Digite a temperatura média do mês de março: 30\n",
            "Digite a temperatura média do mês de abril: 100\n",
            "Digite a temperatura média do mês de maio: 10\n",
            "Digite a temperatura média do mês de junho: 10\n",
            "Digite a temperatura média do mês de julho: 10\n",
            "Digite a temperatura média do mês de agosto: 10\n",
            "Digite a temperatura média do mês de setembro: 5\n",
            "Digite a temperatura média do mês de outubro: 4\n",
            "Digite a temperatura média do mês de novembro: 3\n",
            "Digite a temperatura média do mês de dezembro: 2\n",
            "A média anual foi de 17.25\n",
            "O mês janeiro teve temperatura acima da média anual (20.0)\n",
            "O mês março teve temperatura acima da média anual (30.0)\n",
            "O mês abril teve temperatura acima da média anual (100.0)\n"
          ]
        }
      ]
    },
    {
      "cell_type": "code",
      "source": [
        "vendas={'Produto A': 300, 'Produto B': 80, 'Produto C': 60,\n",
        " 'Produto D': 200, 'Produto E': 250, 'Produto F': 30}\n",
        "soma_vendas=sum(vendas.values())\n",
        "maior_venda=0\n",
        "produto_mais_vendido=''\n",
        "\n",
        "for produto,venda in vendas.items():\n",
        "  if venda>maior_venda:\n",
        "    maior_venda=venda\n",
        "    produto_mais_vendido=produto\n",
        "  else:\n",
        "    continue\n",
        "\n",
        "print(f'A soma de vendas foi de {soma_vendas}')\n",
        "print(f'O produto mais vendido foi {produto_mais_vendido}')\n",
        "\n",
        "\n",
        "# Dicionário de vendas\n",
        "dados_vendas = {'Produto A': 300, 'Produto B': 80, 'Produto C': 60, 'Produto D': 200, 'Produto E': 250, 'Produto F': 30}\n",
        "\n",
        "# Inicializamos as variáveis\n",
        "total_vendas = 0 # Irá somar todos as vendas\n",
        "produto_mais_vendido = '' # Irá armazenar o nome do produto mais vendido\n",
        "unidades_produto_mais_vendido = 0 # Irá armazenar a maior quantidade vendas\n",
        "\n",
        "# Percorremos os valores de chaves e elementos do dicionário\n",
        "for produto in dados_vendas.keys():\n",
        "  # Somamos o total de vendas\n",
        "  total_vendas += dados_vendas[produto]\n",
        "  # Verificamos se valor de venda atual desing (dados_vendas[produto]) é maior que o valor armazenado em unidades_produto_mais_vendido\n",
        "  # Cada vez que dados_vendas[produto] superar o valor em unidades_produto_mais_vendido,\n",
        "  # a variável unidades_produto_mais_vendido vai ser igual à dados_vendas[produto], atribuindo um novo valor\n",
        "  # De forma similar, produto_mais_vendido também é substituído pelo produto atual\n",
        "  if dados_vendas[produto] > unidades_produto_mais_vendido:\n",
        "    unidades_produto_mais_vendido = dados_vendas[produto]\n",
        "    produto_mais_vendido = produto\n",
        "# Resultados\n",
        "print(f'Total de vendas é {total_vendas}')\n",
        "print(f'{produto_mais_vendido} é o mais vendido')"
      ],
      "metadata": {
        "colab": {
          "base_uri": "https://localhost:8080/"
        },
        "id": "_0ZEPkhdC9iW",
        "outputId": "6216774d-334b-448e-a9ba-f9a542784f64"
      },
      "execution_count": null,
      "outputs": [
        {
          "output_type": "stream",
          "name": "stdout",
          "text": [
            "A soma de vendas foi de 920\n",
            "O produto mais vendido foi Produto A\n"
          ]
        }
      ]
    },
    {
      "cell_type": "code",
      "source": [
        "designs={'Design 1':1334,'Design 2':982,'Design 3':1751,'Design 4':210,'Design 5':1811}\n",
        "maior_voto=0\n",
        "design_mais_votado=''\n",
        "total_votos=sum(designs.values())\n",
        "\n",
        "for design,voto in designs.items():\n",
        "  if voto>maior_voto:\n",
        "    maior_voto=voto\n",
        "    design_mais_votado=design\n",
        "  else:\n",
        "    continue\n",
        "print(f'O design mais votado foi {design_mais_votado} com {(maior_voto*100)/sum(designs.values()):.2f} % dos votos')\n",
        "#\n",
        "\n",
        "\n",
        "# Dicionário de votos por design\n",
        "votos = {'Design 1': 1334, 'Design 2': 982, 'Design 3': 1751, 'Design 4': 210, 'Design 5': 1811}\n",
        "\n",
        "# Inicializamos as variáveis\n",
        "total_votos = 0 # Irá somar todos os votos\n",
        "vencedor = '' # Irá armazenar o nome do design vencedor\n",
        "voto_vencedor = 0 # Irá armazenar a quantidade vencedora de votos\n",
        "\n",
        "# Percorremos os valores de chaves e elementos do dicionário\n",
        "for design, voto_desing in votos.items():\n",
        "  # Somamos o total de votos\n",
        "  total_votos += voto_desing\n",
        "  # Verificamos se o voto do atual desing (voto_desing) é maior que o valor armazenado em voto_vencedor\n",
        "  # Cada vez que voto_desing superar o valor em voto_vencedor,\n",
        "  # a variável voto_vencedor vai ser igual à voto_desing, atribuindo um novo valor\n",
        "  # De forma similar, o vencedor também é substituído pelo design\n",
        "  if voto_desing > voto_vencedor:\n",
        "    voto_vencedor = voto_desing\n",
        "    vencedor = design\n",
        "# Calculamos a porcentagem do design vencedor\n",
        "porcentagem = 100 * (voto_vencedor) / (total_votos)\n",
        "\n",
        "#Resultado\n",
        "print(f'{vencedor} é o vencedor: ')\n",
        "print(f'Porcentagem de votos: {porcentagem}%')"
      ],
      "metadata": {
        "colab": {
          "base_uri": "https://localhost:8080/"
        },
        "id": "zTFrAhuWFVEw",
        "outputId": "35db722e-012a-4f3d-bb19-9c66cc898126"
      },
      "execution_count": null,
      "outputs": [
        {
          "output_type": "stream",
          "name": "stdout",
          "text": [
            "O design mais votado foi Design 5 com 29.75 % dos votos\n",
            "Design 5 é o vencedor: \n",
            "Porcentagem de votos: 29.747043363994745%\n"
          ]
        }
      ]
    },
    {
      "cell_type": "code",
      "source": [
        "salarios=[1172, 1644, 2617, 5130, 5532, 6341, 6650, 7238, 7685, 7782, 7903]\n",
        "dicionario={}\n",
        "abono=0\n",
        "qt_abono_min=0\n",
        "abono_max=0\n",
        "for i in range(len(salarios)):\n",
        "  if salarios[i]*0.1<200:\n",
        "    abono=200\n",
        "    dicionario[salarios[i]]=abono\n",
        "    qt_abono_min+=1\n",
        "  else:\n",
        "    abono=round(salarios[i]*0.1,2)\n",
        "    dicionario[salarios[i]]=abono\n",
        "    if abono>abono_max:\n",
        "      abono_max=abono\n",
        "\n",
        "print(dicionario)\n",
        "print(f'Soma de abonos: {sum(dicionario.values())}')\n",
        "print(f'A quantidade de colaboradores que receberam abono minimo foi de {(qt_abono_min)}')\n",
        "print(f'Maior abono: {abono_max}')\n",
        "#\n",
        "\n",
        "\n",
        "# Lista de salários\n",
        "salarios = [1172, 1644, 2617, 5130, 5532, 6341, 6650, 7238, 7685, 7782, 7903]\n",
        "# Inicializamos as variáveis\n",
        "dic_abonos = {} # Dicionário de abonos\n",
        "total_abono = 0 # Irá somar todos os gastos com abono\n",
        "abonos_minimo = 0 # Irá armazenar a quantidade de abonos mínimos\n",
        "maior_abono = 0 # Irá armazenar o maior valor de abono\n",
        "\n",
        "# Percorremos toda a lista de salários\n",
        "for salario in salarios:\n",
        "  # Calculamos o valor teórico de abono\n",
        "  abono = salario * 0.1\n",
        "  # Caso o abono seja inferior a 200,\n",
        "  # ajustamos o valor de abono para o mínimo (200)\n",
        "  if abono < 200:\n",
        "    abono = 200\n",
        "  # Adicionamos um novo dado no dicionário chave abono\n",
        "  dic_abonos[salario] = abono\n",
        "\n",
        "# Percorremos todos os valores do dicionário de abonos\n",
        "for abono in dic_abonos.values():\n",
        "  # Contamos o salário minimo\n",
        "  if abono == 200:\n",
        "    abonos_minimo += 1\n",
        "  # Verificamos se o abono lido é maior que o valor armazenado em maior_abono\n",
        "  # Cada vez que o abono superar o valor de maior_abono,\n",
        "  # a variável maior_abono vai ser igual à abono, atribuindo um novo valor\n",
        "  if abono > maior_abono:\n",
        "    maior_abono = abono\n",
        "  # Somamos os abonos\n",
        "  total_abono += abono\n",
        "# Resultados\n",
        "print(f'Abonos: {dic_abonos}')\n",
        "print(f'Total de gasto com abonos: {total_abono}')\n",
        "print(f'Número de funcionários que receberam o abono mínimo: {abonos_minimo}')\n",
        "print(f'Maior valor de abono: {maior_abono}')"
      ],
      "metadata": {
        "colab": {
          "base_uri": "https://localhost:8080/"
        },
        "id": "LYnkn2T7G5H3",
        "outputId": "14484a78-c348-46d7-9bcf-d8331eb97770"
      },
      "execution_count": null,
      "outputs": [
        {
          "output_type": "stream",
          "name": "stdout",
          "text": [
            "{1172: 200, 1644: 200, 2617: 261.7, 5130: 513.0, 5532: 553.2, 6341: 634.1, 6650: 665.0, 7238: 723.8, 7685: 768.5, 7782: 778.2, 7903: 790.3}\n",
            "Soma de abonos: 6087.8\n",
            "A quantidade de colaboradores que receberam abono minimo foi de 2\n",
            "Maior abono: 790.3\n",
            "Abonos: {1172: 200, 1644: 200, 2617: 261.7, 5130: 513.0, 5532: 553.2, 6341: 634.1, 6650: 665.0, 7238: 723.8000000000001, 7685: 768.5, 7782: 778.2, 7903: 790.3000000000001}\n",
            "Total de gasto com abonos: 6087.8\n",
            "Número de funcionários que receberam o abono mínimo: 2\n",
            "Maior valor de abono: 790.3000000000001\n"
          ]
        }
      ]
    },
    {
      "cell_type": "code",
      "source": [
        "especies={'Área Norte': [2819, 7236],\n",
        " 'Área Leste': [1440, 9492],\n",
        " 'Área Sul': [5969, 7496],\n",
        " 'Área Oeste': [14446, 49688],\n",
        " 'Área Centro': [22558, 45148]}\n",
        "plantas=0\n",
        "animais=0\n",
        "maior_diversidade=0\n",
        "media_especie=sum([sum(especie) for especie in especies.values()])/len(especies)\n",
        "for area,especie in especies.items():\n",
        "    plantas+=especie[0]\n",
        "    animais+=especie[1]\n",
        "    if (sum(especie))>maior_diversidade:\n",
        "      maior_diversidade=sum(especie)\n",
        "      area_mais_diversa=area\n",
        "    else:\n",
        "      continue\n",
        "\n",
        "print(f'A média geral de espécies é {media_especie}')\n",
        "print(f'A média de plantas é de {plantas/len(especies):.1f}')\n",
        "print(f'A média de animais é de {animais/len(especies):.1f}')\n",
        "print(f'A aréa de maior diversidade é a {area_mais_diversa} \\nCom {especie[0]} plantas e {especie[1]} animais')\n",
        "\n",
        "\n",
        "# Especificamos os dados para um dicionário\n",
        "dados = {'Área Norte': [2819, 7236],\n",
        "         'Área Leste': [1440, 9492],\n",
        "         'Área Sul': [5969, 7496],\n",
        "         'Área Oeste': [14446, 49688],\n",
        "         'Área Centro': [22558, 45148]}\n",
        "# Inicializamos as variáveis\n",
        "soma_media = 0 # Irá somar todas as médias\n",
        "maior_diversidade = '' # Irá armazenar a área com maior diversidade\n",
        "maior_soma = 0 # Irá armazenar a maior soma de espécies\n",
        "# Percorremos os valores de chaves e elementos do dicionário\n",
        "for area, especies in dados.items():\n",
        "  # Fazemos a soma do números de espécies em cada área com a função sum\n",
        "  soma_especies = sum(especies)\n",
        "  # Calculamos a média dividindo a soma das espécies pela quantidade de espécies\n",
        "  media = soma_especies / len(especies)\n",
        "  # Imprimimos\n",
        "  print(f'A {area} tem a média de {media} espécies')\n",
        "  # Verificamos se a soma das espécies é maior que o valor armazenado de maior_soma\n",
        "  # Cada vez que a soma_especies superar o valor de maior_soma,\n",
        "  # a variável maior_soma vai ser igual à soma_especies, atribuindo um novo valor\n",
        "  # De forma similar, maior_diversidade também é substituída\n",
        "  if soma_especies > maior_soma:\n",
        "      maior_soma = soma_especies\n",
        "      maior_diversidade = area\n",
        "  # Somamos as médias\n",
        "  soma_media += media\n",
        "# A média total será dada pela soma_media dividida pela quantidade de áreas\n",
        "media_total = soma_media / len(dados)\n",
        "print(f'\\n\\nMédia geral de espécies: {media_total}')\n",
        "print(f'Área com a maior diversidade biológica: {maior_diversidade}')\n"
      ],
      "metadata": {
        "colab": {
          "base_uri": "https://localhost:8080/"
        },
        "id": "EIQc4kXELzFn",
        "outputId": "3f68fb1c-d4d2-45f7-8f81-1c2e8a7967c9"
      },
      "execution_count": null,
      "outputs": [
        {
          "output_type": "stream",
          "name": "stdout",
          "text": [
            "A média geral de espécies é 33258.4\n",
            "A média de plantas é de 9446.4\n",
            "A média de animais é de 23812.0\n",
            "A aréa de maior diversidade é a Área Centro \n",
            "Com 22558 plantas e 45148 animais\n",
            "A Área Norte tem a média de 5027.5 espécies\n",
            "A Área Leste tem a média de 5466.0 espécies\n",
            "A Área Sul tem a média de 6732.5 espécies\n",
            "A Área Oeste tem a média de 32067.0 espécies\n",
            "A Área Centro tem a média de 33853.0 espécies\n",
            "\n",
            "\n",
            "Média geral de espécies: 16629.2\n",
            "Área com a maior diversidade biológica: Área Centro\n"
          ]
        }
      ]
    },
    {
      "cell_type": "code",
      "source": [
        "dicionario={'Setor A': [22, 26, 30, 30, 35, 38, 40, 56, 57, 65],\n",
        " 'Setor B': [22, 24, 26, 33, 41, 49, 50, 54, 60, 64],\n",
        " 'Setor C': [23, 26, 26, 29, 34, 35, 36, 41, 52, 56],\n",
        " 'Setor D': [19, 20, 25, 27, 34, 39, 42, 44, 50, 65]}\n",
        "idade_total=[]\n",
        "qtd_pessoas_acima_da_media=0\n",
        "\n",
        "for setor,idade in dicionario.items():\n",
        "   print(f'A média de idade do setor {setor} é de {sum(idade)/len(idade)} anos')\n",
        "   idade_total.extend(idade)\n",
        "\n",
        "media_geral = sum(idade_total) / len(idade_total)\n",
        "\n",
        "for setor, idades in dicionario.items():\n",
        "    for idade in idades:  # Iterate through each individual age in the list\n",
        "        if idade > media_geral:\n",
        "            qtd_pessoas_acima_da_media += 1\n",
        "\n",
        "\n",
        "print(f'A idade média geral é de {media_geral:.2f} anos')\n",
        "print(f'A quantidade de pessoas com média de idade acima da média geral é de {qtd_pessoas_acima_da_media} pessoas')\n",
        "\n",
        "\n",
        "\n"
      ],
      "metadata": {
        "colab": {
          "base_uri": "https://localhost:8080/"
        },
        "id": "WppbO9PPPFzQ",
        "outputId": "c886959a-356f-478b-c46c-5f387a8786ca"
      },
      "execution_count": null,
      "outputs": [
        {
          "output_type": "stream",
          "name": "stdout",
          "text": [
            "A média de idade do setor Setor A é de 39.9 anos\n",
            "A média de idade do setor Setor B é de 42.3 anos\n",
            "A média de idade do setor Setor C é de 35.8 anos\n",
            "A média de idade do setor Setor D é de 36.5 anos\n",
            "A idade média geral é de 38.62 anos\n",
            "A quantidade de pessoas com média de idade acima da média geral é de 18 pessoas\n"
          ]
        }
      ]
    },
    {
      "cell_type": "code",
      "source": [],
      "metadata": {
        "id": "w9xsugTekVyq"
      },
      "execution_count": null,
      "outputs": []
    }
  ]
}